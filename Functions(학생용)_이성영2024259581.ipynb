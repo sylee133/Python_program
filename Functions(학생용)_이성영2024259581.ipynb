{
  "nbformat": 4,
  "nbformat_minor": 0,
  "metadata": {
    "kernelspec": {
      "display_name": "Python 3",
      "language": "python",
      "name": "python3"
    },
    "language_info": {
      "codemirror_mode": {
        "name": "ipython",
        "version": 3
      },
      "file_extension": ".py",
      "mimetype": "text/x-python",
      "name": "python",
      "nbconvert_exporter": "python",
      "pygments_lexer": "ipython3",
      "version": "3.6.8"
    },
    "colab": {
      "provenance": [],
      "include_colab_link": true
    }
  },
  "cells": [
    {
      "cell_type": "markdown",
      "metadata": {
        "id": "view-in-github",
        "colab_type": "text"
      },
      "source": [
        "<a href=\"https://colab.research.google.com/github/sylee133/Python_program/blob/main/Functions(%ED%95%99%EC%83%9D%EC%9A%A9)_%EC%9D%B4%EC%84%B1%EC%98%812024259581.ipynb\" target=\"_parent\"><img src=\"https://colab.research.google.com/assets/colab-badge.svg\" alt=\"Open In Colab\"/></a>"
      ]
    },
    {
      "cell_type": "markdown",
      "metadata": {
        "id": "2jwi-AriOsMR"
      },
      "source": [
        "<h1>Functions in Python</h1>"
      ]
    },
    {
      "cell_type": "markdown",
      "metadata": {
        "id": "1PzxrTdLOsMR"
      },
      "source": [
        "<p><strong>Welcome!</strong> This notebook will teach you about the functions in the Python Programming Language. By the end of this lab, you'll know the basic concepts about function, variables, and how to use functions.</p>"
      ]
    },
    {
      "cell_type": "markdown",
      "metadata": {
        "id": "imcvS4B2OsMU"
      },
      "source": [
        "<h2 id=\"func\">Functions</h2>"
      ]
    },
    {
      "cell_type": "markdown",
      "metadata": {
        "id": "VgclqAv4OsMU"
      },
      "source": [
        "A function is a reusable block of code which performs operations specified in the function.  They let you break down tasks and allow you to reuse your code in different programs.\n",
        "\n",
        "There are two types of functions :\n",
        "\n",
        "- <b>Pre-defined functions</b>\n",
        "- <b>User defined functions</b>"
      ]
    },
    {
      "cell_type": "markdown",
      "metadata": {
        "id": "Q5up5hqfOsMV"
      },
      "source": [
        "<h3 id=\"content\">What is a Function?</h3>"
      ]
    },
    {
      "cell_type": "markdown",
      "metadata": {
        "id": "AscpS-ckOsMW"
      },
      "source": [
        "You can define functions to provide the required functionality. Here are simple rules to define a function in Python:\n",
        "-  Functions blocks begin <code>def</code> followed by the function <code>name</code> and parentheses <code>()</code>.\n",
        "-  There are input parameters or arguments that should be placed within these parentheses.\n",
        "-  You can also define parameters inside these parentheses.\n",
        "-  There is a body within every function that starts with a colon (<code>:</code>) and is indented.\n",
        "-  You can also place documentation before the body\n",
        "-  The statement <code>return</code> exits a function, optionally passing back a value\n",
        "\n",
        "An example of a function that adds on to the parameter <code>a</code> prints and returns the output as <code>b</code>:"
      ]
    },
    {
      "cell_type": "code",
      "metadata": {
        "id": "wFUcjYUZOsMW"
      },
      "source": [
        "# First function example: Add 1 to a and store as b\n",
        "\n",
        "def add(a):\n",
        "    b = a + 1\n",
        "    print(a, \"if you add one\", b)\n",
        "    return(a, b) # y=x+1, (x,y)  #성영 : 함수 add를 선언(define)만 했기 때문에 표시되는 거 없음"
      ],
      "execution_count": 3,
      "outputs": []
    },
    {
      "cell_type": "markdown",
      "metadata": {
        "id": "yC7TSHibOsMa"
      },
      "source": [
        "The figure below illustrates the terminology:"
      ]
    },
    {
      "cell_type": "markdown",
      "metadata": {
        "id": "qs-u_NhQOsMa"
      },
      "source": [
        "<img src=\"https://s3-api.us-geo.objectstorage.softlayer.net/cf-courses-data/CognitiveClass/PY0101EN/Chapter%203/Images/FuncsDefinition.png\" width=\"500\" />"
      ]
    },
    {
      "cell_type": "code",
      "source": [
        "add(100) #함수를 부른 것임 (call functions)"
      ],
      "metadata": {
        "colab": {
          "base_uri": "https://localhost:8080/"
        },
        "id": "HQjv0dXdmAoQ",
        "outputId": "b6cf16b6-b341-4e58-ce8f-6d3ab8f5751a"
      },
      "execution_count": 6,
      "outputs": [
        {
          "output_type": "stream",
          "name": "stdout",
          "text": [
            "100 if you add one 101\n"
          ]
        },
        {
          "output_type": "execute_result",
          "data": {
            "text/plain": [
              "(100, 101)"
            ]
          },
          "metadata": {},
          "execution_count": 6
        }
      ]
    },
    {
      "cell_type": "code",
      "source": [
        "return_value = add(2)\n",
        "return_value"
      ],
      "metadata": {
        "colab": {
          "base_uri": "https://localhost:8080/"
        },
        "id": "WSU1BElLmQQR",
        "outputId": "a15faf4c-3418-4cd7-e5e3-c240828c702c"
      },
      "execution_count": 7,
      "outputs": [
        {
          "output_type": "stream",
          "name": "stdout",
          "text": [
            "2 if you add one 3\n"
          ]
        },
        {
          "output_type": "execute_result",
          "data": {
            "text/plain": [
              "(2, 3)"
            ]
          },
          "metadata": {},
          "execution_count": 7
        }
      ]
    },
    {
      "cell_type": "markdown",
      "metadata": {
        "id": "__iP8GK_OsMb"
      },
      "source": [
        "We can obtain help about a function :"
      ]
    },
    {
      "cell_type": "code",
      "metadata": {
        "id": "AZ7XAdojOsMb",
        "colab": {
          "base_uri": "https://localhost:8080/"
        },
        "outputId": "c4e3f7a6-0998-4f22-dd69-9991ea33db0a"
      },
      "source": [
        "# Get a help on add function\n",
        "\n",
        "help(add) #성영 : add라는 함수가 있고, parameter 'a' 하나만 입력받는 함수 임을 설명"
      ],
      "execution_count": 9,
      "outputs": [
        {
          "output_type": "stream",
          "name": "stdout",
          "text": [
            "Help on function add in module __main__:\n",
            "\n",
            "add(a)\n",
            "\n"
          ]
        }
      ]
    },
    {
      "cell_type": "markdown",
      "metadata": {
        "id": "PQsYzdZeOsMe"
      },
      "source": [
        "We can call the function:"
      ]
    },
    {
      "cell_type": "code",
      "metadata": {
        "id": "bdqelKQUOsMf",
        "colab": {
          "base_uri": "https://localhost:8080/"
        },
        "outputId": "f4beb56d-d20a-4eea-b7bd-8deba0f21769"
      },
      "source": [
        "# Call the function add()\n",
        "\n",
        "add(10)"
      ],
      "execution_count": 10,
      "outputs": [
        {
          "output_type": "stream",
          "name": "stdout",
          "text": [
            "10 if you add one 11\n"
          ]
        },
        {
          "output_type": "execute_result",
          "data": {
            "text/plain": [
              "(10, 11)"
            ]
          },
          "metadata": {},
          "execution_count": 10
        }
      ]
    },
    {
      "cell_type": "markdown",
      "metadata": {
        "id": "oS0qCejKOsMi"
      },
      "source": [
        "If we call the function with a new input we get a new result:"
      ]
    },
    {
      "cell_type": "code",
      "metadata": {
        "id": "cOuBTXeBOsMi",
        "colab": {
          "base_uri": "https://localhost:8080/"
        },
        "outputId": "17a4d891-b88b-4f3e-fd0d-d1f35209545e"
      },
      "source": [
        "# Call the function add()\n",
        "\n",
        "add(2)"
      ],
      "execution_count": 11,
      "outputs": [
        {
          "output_type": "stream",
          "name": "stdout",
          "text": [
            "2 if you add one 3\n"
          ]
        },
        {
          "output_type": "execute_result",
          "data": {
            "text/plain": [
              "(2, 3)"
            ]
          },
          "metadata": {},
          "execution_count": 11
        }
      ]
    },
    {
      "cell_type": "markdown",
      "metadata": {
        "id": "I7UKUyxHOsMl"
      },
      "source": [
        "We can create different functions. For example, we can create a function that multiplies two numbers. The numbers will be represented by the variables <code>a</code> and <code>b</code>:"
      ]
    },
    {
      "cell_type": "code",
      "metadata": {
        "id": "bMPmJv0pOsMm"
      },
      "source": [
        "# Define a function for multiple two numbers\n",
        "\n",
        "def Mult(a, b):\n",
        "    c = a * b\n",
        "    return(c)"
      ],
      "execution_count": 12,
      "outputs": []
    },
    {
      "cell_type": "markdown",
      "metadata": {
        "id": "esmd2L9sOsMo"
      },
      "source": [
        "The same function can be used for different data types. For example, we can multiply two integers:\n"
      ]
    },
    {
      "cell_type": "code",
      "metadata": {
        "id": "dJKLyK9SOsMp",
        "colab": {
          "base_uri": "https://localhost:8080/"
        },
        "outputId": "179fbf54-7962-4d1b-c57f-84a430f6a6aa"
      },
      "source": [
        "# Use mult() multiply two integers\n",
        "\n",
        "result_mult = Mult(2.3, 3.1)\n",
        "type(result_mult)"
      ],
      "execution_count": 16,
      "outputs": [
        {
          "output_type": "execute_result",
          "data": {
            "text/plain": [
              "float"
            ]
          },
          "metadata": {},
          "execution_count": 16
        }
      ]
    },
    {
      "cell_type": "markdown",
      "metadata": {
        "id": "fGk56rDDOsMr"
      },
      "source": [
        " Two Floats:"
      ]
    },
    {
      "cell_type": "code",
      "metadata": {
        "id": "g0mFueWROsMs",
        "colab": {
          "base_uri": "https://localhost:8080/"
        },
        "outputId": "05c55b60-595a-4385-f128-f52abe137a55"
      },
      "source": [
        "# Use mult() multiply two floats\n",
        "\n",
        "Mult(10.0, 3.14)"
      ],
      "execution_count": 17,
      "outputs": [
        {
          "output_type": "execute_result",
          "data": {
            "text/plain": [
              "31.400000000000002"
            ]
          },
          "metadata": {},
          "execution_count": 17
        }
      ]
    },
    {
      "cell_type": "markdown",
      "metadata": {
        "id": "dvnH5BnTOsMu"
      },
      "source": [
        "We can even replicate a string by multiplying with an integer:"
      ]
    },
    {
      "cell_type": "code",
      "metadata": {
        "id": "OTpkvwewOsMv",
        "colab": {
          "base_uri": "https://localhost:8080/",
          "height": 35
        },
        "outputId": "956afd0a-4048-45f7-f214-d29d93bb0049"
      },
      "source": [
        "# Use mult() multiply two different type values together\n",
        "\n",
        "Mult(2, \"Michael Jackson \")"
      ],
      "execution_count": 18,
      "outputs": [
        {
          "output_type": "execute_result",
          "data": {
            "text/plain": [
              "'Michael Jackson Michael Jackson '"
            ],
            "application/vnd.google.colaboratory.intrinsic+json": {
              "type": "string"
            }
          },
          "metadata": {},
          "execution_count": 18
        }
      ]
    },
    {
      "cell_type": "markdown",
      "metadata": {
        "id": "hmHokHm2OsMy"
      },
      "source": [
        "<h3 id=\"var\">Variables (local = 지역, global = 전역)</h3>"
      ]
    },
    {
      "cell_type": "markdown",
      "metadata": {
        "id": "CPsksHKAOsMz"
      },
      "source": [
        "The input to a function is called a formal parameter.\n",
        "\n",
        "A variable that is declared inside a function is called a  local variable. The parameter only exists within the function (i.e. the point where the function starts and stops).  \n",
        "\n",
        "A variable that is declared outside a function definition is a global variable, and its value is accessible and modifiable throughout the program. We will discuss more about global variables at the end of this module.\n"
      ]
    },
    {
      "cell_type": "code",
      "metadata": {
        "id": "Pou8-3L9OsMz"
      },
      "source": [
        "# Function Definition\n",
        "\n",
        "def square(a):\n",
        "\n",
        "    # Local variable b\n",
        "    b = 1\n",
        "    c = a * a + b\n",
        "    print(a, \"if you square + 1\", c)\n",
        "    return(c)"
      ],
      "execution_count": 19,
      "outputs": []
    },
    {
      "cell_type": "markdown",
      "metadata": {
        "id": "sAEfAgb0OsM3"
      },
      "source": [
        "The labels are displayed in the figure:  "
      ]
    },
    {
      "cell_type": "markdown",
      "metadata": {
        "id": "xrWPh3OFOsM3"
      },
      "source": [
        "<img src=\"https://s3-api.us-geo.objectstorage.softlayer.net/cf-courses-data/CognitiveClass/PY0101EN/Chapter%203/Images/FuncsVar.png\" width=\"500\" />"
      ]
    },
    {
      "cell_type": "markdown",
      "metadata": {
        "id": "2vUqPuALOsM3"
      },
      "source": [
        "We can call the function  with an input of <b>3</b>:"
      ]
    },
    {
      "cell_type": "code",
      "metadata": {
        "id": "Gf4VTUSsOsM4",
        "colab": {
          "base_uri": "https://localhost:8080/"
        },
        "outputId": "b698bc24-4ac2-42e9-f03d-d530910dfc6b"
      },
      "source": [
        "# Initializes Global variable\n",
        "\n",
        "x = 3\n",
        "# Makes function call and return function a y\n",
        "y = square(x)\n",
        "y"
      ],
      "execution_count": 20,
      "outputs": [
        {
          "output_type": "stream",
          "name": "stdout",
          "text": [
            "3 if you square + 1 10\n"
          ]
        },
        {
          "output_type": "execute_result",
          "data": {
            "text/plain": [
              "10"
            ]
          },
          "metadata": {},
          "execution_count": 20
        }
      ]
    },
    {
      "cell_type": "code",
      "source": [
        "c #성영 : 함수 square 내에서 사용한 변수 b, c는 local variable로 함수내에서만 사용되고, 휘발되어 없어짐. 반면 x, y는 global var이므로 전역에서 사용. 메모리에 남아 있음"
      ],
      "metadata": {
        "colab": {
          "base_uri": "https://localhost:8080/",
          "height": 147
        },
        "id": "LScX6Zmzt5gX",
        "outputId": "63563cd5-2838-4f8c-f01e-32ae8160dda7"
      },
      "execution_count": 22,
      "outputs": [
        {
          "output_type": "error",
          "ename": "NameError",
          "evalue": "name 'c' is not defined",
          "traceback": [
            "\u001b[0;31m---------------------------------------------------------------------------\u001b[0m",
            "\u001b[0;31mNameError\u001b[0m                                 Traceback (most recent call last)",
            "\u001b[0;32m<ipython-input-22-56b85da5f725>\u001b[0m in \u001b[0;36m<cell line: 0>\u001b[0;34m()\u001b[0m\n\u001b[0;32m----> 1\u001b[0;31m \u001b[0mc\u001b[0m \u001b[0;31m#성영 : 함수 square 내에서 사용한 변수 b, c는 local variable로 함수내에서만 사용되고, 휘발되어 없어짐\u001b[0m\u001b[0;34m\u001b[0m\u001b[0;34m\u001b[0m\u001b[0m\n\u001b[0m",
            "\u001b[0;31mNameError\u001b[0m: name 'c' is not defined"
          ]
        }
      ]
    },
    {
      "cell_type": "markdown",
      "metadata": {
        "id": "Ti7OEEvNOsM6"
      },
      "source": [
        " We can call the function  with an input of <b>2</b> in a different manner:"
      ]
    },
    {
      "cell_type": "code",
      "metadata": {
        "id": "FHjXbgjLOsM6",
        "colab": {
          "base_uri": "https://localhost:8080/"
        },
        "outputId": "bf70dbf9-ddde-4eab-e656-4aa2f14eb1c9"
      },
      "source": [
        "# Directly enter a number as parameter\n",
        "\n",
        "square(2)"
      ],
      "execution_count": 23,
      "outputs": [
        {
          "output_type": "stream",
          "name": "stdout",
          "text": [
            "2 if you square + 1 5\n"
          ]
        },
        {
          "output_type": "execute_result",
          "data": {
            "text/plain": [
              "5"
            ]
          },
          "metadata": {},
          "execution_count": 23
        }
      ]
    },
    {
      "cell_type": "markdown",
      "metadata": {
        "id": "biqVXG13OsM8"
      },
      "source": [
        "If there is no <code>return</code> statement, the function returns <code>None</code>. The following two functions are equivalent:"
      ]
    },
    {
      "cell_type": "code",
      "metadata": {
        "id": "YeVhsCF9OsM9"
      },
      "source": [
        "# Define functions, one with return value None and other without return value\n",
        "\n",
        "def MJ():\n",
        "    print('Michael Jackson')\n",
        "\n",
        "def MJ1():\n",
        "    print('Michael Jackson')\n",
        "    return(None)"
      ],
      "execution_count": 24,
      "outputs": []
    },
    {
      "cell_type": "code",
      "metadata": {
        "id": "Mq2bEFz2OsM_",
        "colab": {
          "base_uri": "https://localhost:8080/"
        },
        "outputId": "f8f134e2-4bc7-4394-83c7-cbf704e9c664"
      },
      "source": [
        "# See the output\n",
        "\n",
        "MJ()"
      ],
      "execution_count": 25,
      "outputs": [
        {
          "output_type": "stream",
          "name": "stdout",
          "text": [
            "Michael Jackson\n"
          ]
        }
      ]
    },
    {
      "cell_type": "code",
      "metadata": {
        "id": "irqGhKlaOsNB",
        "colab": {
          "base_uri": "https://localhost:8080/"
        },
        "outputId": "41f13cb8-0781-4b37-ac64-0339d94d4992"
      },
      "source": [
        "# See the output\n",
        "\n",
        "MJ1()"
      ],
      "execution_count": 26,
      "outputs": [
        {
          "output_type": "stream",
          "name": "stdout",
          "text": [
            "Michael Jackson\n"
          ]
        }
      ]
    },
    {
      "cell_type": "markdown",
      "metadata": {
        "id": "875dwkmgOsNG"
      },
      "source": [
        "Create a function <code>con</code> that  concatenates two strings using the addition operation:"
      ]
    },
    {
      "cell_type": "code",
      "metadata": {
        "id": "_kfvN-sXOsNH"
      },
      "source": [
        "# Define the function for combining strings\n",
        "\n",
        "def con(a, b):\n",
        "    return(a + b)"
      ],
      "execution_count": 27,
      "outputs": []
    },
    {
      "cell_type": "code",
      "metadata": {
        "id": "P6pQrl_xOsNJ",
        "colab": {
          "base_uri": "https://localhost:8080/",
          "height": 35
        },
        "outputId": "feb52ce6-2a39-413f-c2b0-57b26d191e14"
      },
      "source": [
        "# Test on the con() function\n",
        "\n",
        "text_return = con(\"This \", \"is\")\n",
        "text_return\n",
        "#type(text_return)"
      ],
      "execution_count": 31,
      "outputs": [
        {
          "output_type": "execute_result",
          "data": {
            "text/plain": [
              "'This is'"
            ],
            "application/vnd.google.colaboratory.intrinsic+json": {
              "type": "string"
            }
          },
          "metadata": {},
          "execution_count": 31
        }
      ]
    },
    {
      "cell_type": "markdown",
      "metadata": {
        "id": "d4nGFfGYOsNL"
      },
      "source": [
        "<hr/>\n",
        "    <div class=\"alert alert-success alertsuccess\" style=\"margin-top: 20px\">\n",
        "        <h4> [Tip] How do I learn more about the pre-defined functions in Python? </h4>\n",
        "        <p>We will be introducing a variety of pre-defined functions to you as you learn more about Python. There are just too many functions, so there's no way we can teach them all in one sitting. But if you'd like to take a quick peek, here's a short reference card for some of the commonly-used pre-defined functions: <a href=\"https://quickref.me/python\">Reference</a></p>\n",
        "    </div>\n",
        "<hr/>"
      ]
    },
    {
      "cell_type": "markdown",
      "metadata": {
        "id": "ggALJ2HROsNL"
      },
      "source": [
        "<h3 id=\"simple\">Functions Make Things Simple</h3>"
      ]
    },
    {
      "cell_type": "markdown",
      "metadata": {
        "id": "QetpeMiXOsNM"
      },
      "source": [
        "Consider the two lines of code in <b>Block 1</b> and <b>Block 2</b>: the procedure for each block is identical. The only thing that is different is the variable names and values."
      ]
    },
    {
      "cell_type": "markdown",
      "metadata": {
        "id": "qSJnVvmEOsNM"
      },
      "source": [
        "<h4>Block 1:</h4>"
      ]
    },
    {
      "cell_type": "code",
      "metadata": {
        "id": "PqRXKdz3OsNM",
        "colab": {
          "base_uri": "https://localhost:8080/"
        },
        "outputId": "243b0c8e-2aa1-4e10-c275-7c0c2f6fcfba"
      },
      "source": [
        "# a and b calculation block1\n",
        "\n",
        "a1 = 4\n",
        "b1 = 5\n",
        "c1 = a1 + b1 + 2 * a1 * b1 - 1\n",
        "if(c1 < 0):\n",
        "    c1 = 0\n",
        "else:\n",
        "    c1 = 5\n",
        "c1"
      ],
      "execution_count": 32,
      "outputs": [
        {
          "output_type": "execute_result",
          "data": {
            "text/plain": [
              "5"
            ]
          },
          "metadata": {},
          "execution_count": 32
        }
      ]
    },
    {
      "cell_type": "markdown",
      "metadata": {
        "id": "ApgRvsJzOsNP"
      },
      "source": [
        "<h4>Block 2:</h4>"
      ]
    },
    {
      "cell_type": "code",
      "metadata": {
        "id": "e0pJGs8POsNQ",
        "colab": {
          "base_uri": "https://localhost:8080/"
        },
        "outputId": "4eb925ae-cceb-48cc-cd39-bbba53591efa"
      },
      "source": [
        "# a and b calculation block2\n",
        "\n",
        "a2 = 0\n",
        "b2 = 0\n",
        "c2 = a2 + b2 + 2 * a2 * b2 - 1\n",
        "if(c2 < 0):\n",
        "    c2 = 0\n",
        "else:\n",
        "    c2 = 5\n",
        "c2"
      ],
      "execution_count": 33,
      "outputs": [
        {
          "output_type": "execute_result",
          "data": {
            "text/plain": [
              "0"
            ]
          },
          "metadata": {},
          "execution_count": 33
        }
      ]
    },
    {
      "cell_type": "markdown",
      "metadata": {
        "id": "3bh1WeoJOsNU"
      },
      "source": [
        "We can replace the lines of code with a function. A function combines many instructions into a single line of code. Once a function is defined, it can be used repeatedly. You can invoke the same function many times in your program. You can save your function and use it in another program or use someone else’s function. The lines of code in code <b>Block 1</b> and code <b>Block 2</b> can be replaced by the following function:  "
      ]
    },
    {
      "cell_type": "code",
      "metadata": {
        "id": "cSrARH5yOsNV"
      },
      "source": [
        "# Make a Function for the calculation above\n",
        "\n",
        "def Equation(a,b):\n",
        "    c = a + b + 2 * a * b - 1\n",
        "    if(c < 0):\n",
        "        c = 0\n",
        "    else:\n",
        "        c = 5\n",
        "    return(c)"
      ],
      "execution_count": 34,
      "outputs": []
    },
    {
      "cell_type": "code",
      "source": [
        "print(Equation(0,0))\n",
        "print(Equation(4,5))"
      ],
      "metadata": {
        "colab": {
          "base_uri": "https://localhost:8080/"
        },
        "id": "xAoX3Wt2vTTm",
        "outputId": "bd5db463-723b-4d08-e53f-9939955ac38b"
      },
      "execution_count": 37,
      "outputs": [
        {
          "output_type": "stream",
          "name": "stdout",
          "text": [
            "0\n",
            "5\n"
          ]
        }
      ]
    },
    {
      "cell_type": "markdown",
      "metadata": {
        "id": "b-m6oOptOsNX"
      },
      "source": [
        "This function takes two inputs, a and b, then applies several operations to return c.\n",
        "We simply define the function, replace the instructions with the function, and input the new values of <code>a1</code>, <code>b1</code> and <code>a2</code>, <code>b2</code> as inputs. The entire process is demonstrated in the figure:"
      ]
    },
    {
      "cell_type": "markdown",
      "metadata": {
        "id": "K82kW7BkOsNX"
      },
      "source": [
        "<img src=\"https://s3-api.us-geo.objectstorage.softlayer.net/cf-courses-data/CognitiveClass/PY0101EN/Chapter%203/Images/FuncsPros.gif\" width=\"850\" />"
      ]
    },
    {
      "cell_type": "markdown",
      "metadata": {
        "id": "tnn_9_xeOsNX"
      },
      "source": [
        "Code **Blocks 1** and **Block 2** can now be replaced with code **Block 3** and code **Block 4**."
      ]
    },
    {
      "cell_type": "markdown",
      "metadata": {
        "id": "EOg3FEjUOsNY"
      },
      "source": [
        "<h4>Block 3:</h4>"
      ]
    },
    {
      "cell_type": "code",
      "metadata": {
        "id": "26TKa_mrOsNY",
        "colab": {
          "base_uri": "https://localhost:8080/"
        },
        "outputId": "2a557fd6-131e-4c84-8806-240511beeb15"
      },
      "source": [
        "a1 = 4\n",
        "b1 = 5\n",
        "c1 = Equation(a1, b1)\n",
        "c1"
      ],
      "execution_count": 38,
      "outputs": [
        {
          "output_type": "execute_result",
          "data": {
            "text/plain": [
              "5"
            ]
          },
          "metadata": {},
          "execution_count": 38
        }
      ]
    },
    {
      "cell_type": "markdown",
      "metadata": {
        "id": "bX7KlXgNOsNa"
      },
      "source": [
        "<h4>Block 4:</h4>"
      ]
    },
    {
      "cell_type": "code",
      "metadata": {
        "id": "13EjVj0JOsNa",
        "colab": {
          "base_uri": "https://localhost:8080/"
        },
        "outputId": "f9de0fc7-dff0-4861-dae1-10f2dc1f872c"
      },
      "source": [
        "a2 = 0\n",
        "b2 = 0\n",
        "c2 = Equation(a2, b2)\n",
        "c2"
      ],
      "execution_count": 39,
      "outputs": [
        {
          "output_type": "execute_result",
          "data": {
            "text/plain": [
              "0"
            ]
          },
          "metadata": {},
          "execution_count": 39
        }
      ]
    },
    {
      "cell_type": "markdown",
      "metadata": {
        "id": "MUD72d7iOsNc"
      },
      "source": [
        "<hr>"
      ]
    },
    {
      "cell_type": "markdown",
      "metadata": {
        "id": "DjMJZ4H5OsNc"
      },
      "source": [
        "<h2 id=\"pre\">Pre-defined functions</h2>"
      ]
    },
    {
      "cell_type": "markdown",
      "metadata": {
        "id": "XjHKYv3DOsNd"
      },
      "source": [
        "There are many pre-defined functions in Python, so let's start with the simple ones."
      ]
    },
    {
      "cell_type": "markdown",
      "metadata": {
        "id": "POIbKP0iOsNd"
      },
      "source": [
        "\n",
        "\n",
        "The <code>print()</code> function:"
      ]
    },
    {
      "cell_type": "code",
      "metadata": {
        "id": "x7iVP08WOsNe",
        "colab": {
          "base_uri": "https://localhost:8080/"
        },
        "outputId": "0a349a8c-04d1-40f6-a2e2-4dc27f86f3cc"
      },
      "source": [
        "# Build-in function print()\n",
        "\n",
        "album_ratings = [10.0, 8.5, 9.5, 7.0, 7.0, 9.5, 9.0, 9.5]\n",
        "print(album_ratings)"
      ],
      "execution_count": 40,
      "outputs": [
        {
          "output_type": "stream",
          "name": "stdout",
          "text": [
            "[10.0, 8.5, 9.5, 7.0, 7.0, 9.5, 9.0, 9.5]\n"
          ]
        }
      ]
    },
    {
      "cell_type": "markdown",
      "metadata": {
        "id": "fXb-lQ7OOsNg"
      },
      "source": [
        "The <code>sum()</code> function adds all the  elements in a list or tuple:"
      ]
    },
    {
      "cell_type": "code",
      "metadata": {
        "id": "gQ-mEnBUOsNg",
        "colab": {
          "base_uri": "https://localhost:8080/"
        },
        "outputId": "814d49a8-4ff0-4dfb-edf0-98a2afdab8e5"
      },
      "source": [
        "# Use sum() to add every element in a list or tuple together\n",
        "\n",
        "sum(album_ratings)"
      ],
      "execution_count": 41,
      "outputs": [
        {
          "output_type": "execute_result",
          "data": {
            "text/plain": [
              "70.0"
            ]
          },
          "metadata": {},
          "execution_count": 41
        }
      ]
    },
    {
      "cell_type": "markdown",
      "metadata": {
        "id": "1QfaFLMDOsNj"
      },
      "source": [
        "The <code>len()</code> function returns the length of a list or tuple:"
      ]
    },
    {
      "cell_type": "code",
      "metadata": {
        "id": "sG-kvbWvOsNj",
        "colab": {
          "base_uri": "https://localhost:8080/"
        },
        "outputId": "b1f0128c-8978-4bfc-99de-e1145484dd84"
      },
      "source": [
        "# Show the length of the list or tuple\n",
        "\n",
        "len(album_ratings)"
      ],
      "execution_count": null,
      "outputs": [
        {
          "output_type": "execute_result",
          "data": {
            "text/plain": [
              "8"
            ]
          },
          "metadata": {},
          "execution_count": 49
        }
      ]
    },
    {
      "cell_type": "markdown",
      "metadata": {
        "id": "3fyYOCL2OsNn"
      },
      "source": [
        "<h2 id=\"if\">Using <code>if</code>/<code>else</code> Statements and Loops in Functions</h2>"
      ]
    },
    {
      "cell_type": "markdown",
      "metadata": {
        "id": "lzn9-0HROsNn"
      },
      "source": [
        "The <code>return()</code> function is particularly useful if you have any IF statements in the function, when you want your output to be dependent on some condition:"
      ]
    },
    {
      "cell_type": "code",
      "metadata": {
        "id": "vQW7IFRdOsNn",
        "colab": {
          "base_uri": "https://localhost:8080/"
        },
        "outputId": "e8a09661-9137-4915-9043-49f73418c92b"
      },
      "source": [
        "# Function example\n",
        "\n",
        "def type_of_album(artist, album, year_released):\n",
        "\n",
        "    print(artist, album, year_released)\n",
        "    if year_released > 1980:\n",
        "        return \"Modern\"\n",
        "    else:\n",
        "        return \"Oldie\"\n",
        "\n",
        "x = type_of_album(\"Michael Jackson\", \"Thriller\", 1980)\n",
        "print(x)\n",
        "type(x)"
      ],
      "execution_count": 42,
      "outputs": [
        {
          "output_type": "stream",
          "name": "stdout",
          "text": [
            "Michael Jackson Thriller 1980\n",
            "Oldie\n"
          ]
        },
        {
          "output_type": "execute_result",
          "data": {
            "text/plain": [
              "str"
            ]
          },
          "metadata": {},
          "execution_count": 42
        }
      ]
    },
    {
      "cell_type": "markdown",
      "metadata": {
        "id": "U5aSs4aYOsNp"
      },
      "source": [
        "We can use a loop in a function. For example, we can <code>print</code> out each element in a list:"
      ]
    },
    {
      "cell_type": "code",
      "metadata": {
        "id": "QOBcDRuOOsNq"
      },
      "source": [
        "# Print the list using for loop\n",
        "\n",
        "def PrintList(the_list):\n",
        "    for element in the_list:\n",
        "        print(element)"
      ],
      "execution_count": 43,
      "outputs": []
    },
    {
      "cell_type": "code",
      "metadata": {
        "id": "c42afwlQOsNs",
        "colab": {
          "base_uri": "https://localhost:8080/"
        },
        "outputId": "98ea5939-fb84-4f57-ca4b-a67f4f05ffc6"
      },
      "source": [
        "# Implement the printlist function\n",
        "\n",
        "PrintList(['1', 1, 'the man', \"abc\"])"
      ],
      "execution_count": 44,
      "outputs": [
        {
          "output_type": "stream",
          "name": "stdout",
          "text": [
            "1\n",
            "1\n",
            "the man\n",
            "abc\n"
          ]
        }
      ]
    },
    {
      "cell_type": "markdown",
      "metadata": {
        "id": "7PyGHYWzOsNu"
      },
      "source": [
        "<hr>"
      ]
    },
    {
      "cell_type": "markdown",
      "metadata": {
        "id": "aBwH_3vxOsNv"
      },
      "source": [
        "<h2 id=\"default\">Setting default argument values in your custom functions</h2>"
      ]
    },
    {
      "cell_type": "markdown",
      "metadata": {
        "id": "5kheGgQcOsNv"
      },
      "source": [
        "You can set a default value for arguments in your function. For example, in the <code>isGoodRating()</code> function, what if we wanted to create a threshold for what we consider to be a good rating? Perhaps by default, we should have a default rating of 4:"
      ]
    },
    {
      "cell_type": "code",
      "metadata": {
        "id": "-HQlG3C4OsNv"
      },
      "source": [
        "# Example for setting param with default value\n",
        "\n",
        "def isGoodRating(rating=4): #성영 : rating () 값이 없으면 rating = 4로 default 값을 지정\n",
        "    if(rating < 7):\n",
        "        print(\"this album sucks it's rating is\",rating)\n",
        "\n",
        "    else:\n",
        "        print(\"this album is good its rating is\",rating)\n"
      ],
      "execution_count": 48,
      "outputs": []
    },
    {
      "cell_type": "code",
      "metadata": {
        "id": "iWSb1I0XOsNy",
        "colab": {
          "base_uri": "https://localhost:8080/"
        },
        "outputId": "63be8987-149f-4233-fedd-91b6db1d863e"
      },
      "source": [
        "# Test the value with default value and with input\n",
        "\n",
        "isGoodRating()\n",
        "isGoodRating(10)"
      ],
      "execution_count": 49,
      "outputs": [
        {
          "output_type": "stream",
          "name": "stdout",
          "text": [
            "this album sucks it's rating is 4\n",
            "this album is good its rating is 10\n"
          ]
        }
      ]
    },
    {
      "cell_type": "markdown",
      "metadata": {
        "id": "S-a42iySOsN1"
      },
      "source": [
        "<hr>"
      ]
    },
    {
      "cell_type": "markdown",
      "metadata": {
        "id": "HugJ5p8sOsN1"
      },
      "source": [
        "<h2 id=\"global\">Global variables</h2>"
      ]
    },
    {
      "cell_type": "markdown",
      "metadata": {
        "id": "bkPh8bF3OsN2"
      },
      "source": [
        "So far, we've been creating variables within functions, but we have not discussed variables outside the function.  These are called global variables.\n",
        "<br>\n",
        "Let's try to see what <code>printer1</code> returns:"
      ]
    },
    {
      "cell_type": "code",
      "metadata": {
        "id": "IR1Nd49HOsN2",
        "colab": {
          "base_uri": "https://localhost:8080/",
          "height": 184
        },
        "outputId": "5580e679-d913-4dcf-a81d-8726b9618505"
      },
      "source": [
        "# Example of global variable\n",
        "\n",
        "artist = \"Michael Jackson\" #전역변수 = global...\n",
        "def printer1(artist):\n",
        "    internal_var = artist #local variable, 즉 printer1이 끝나면 없어지는 것임\n",
        "    print(artist, \"is an artist\")\n",
        "\n",
        "printer1(artist, internal_var) #artist는 알아, internal_var 몰라..."
      ],
      "execution_count": 50,
      "outputs": [
        {
          "output_type": "error",
          "ename": "NameError",
          "evalue": "name 'internal_var' is not defined",
          "traceback": [
            "\u001b[0;31m---------------------------------------------------------------------------\u001b[0m",
            "\u001b[0;31mNameError\u001b[0m                                 Traceback (most recent call last)",
            "\u001b[0;32m<ipython-input-50-09fdb946cb6d>\u001b[0m in \u001b[0;36m<cell line: 0>\u001b[0;34m()\u001b[0m\n\u001b[1;32m      6\u001b[0m     \u001b[0mprint\u001b[0m\u001b[0;34m(\u001b[0m\u001b[0martist\u001b[0m\u001b[0;34m,\u001b[0m \u001b[0;34m\"is an artist\"\u001b[0m\u001b[0;34m)\u001b[0m\u001b[0;34m\u001b[0m\u001b[0;34m\u001b[0m\u001b[0m\n\u001b[1;32m      7\u001b[0m \u001b[0;34m\u001b[0m\u001b[0m\n\u001b[0;32m----> 8\u001b[0;31m \u001b[0mprinter1\u001b[0m\u001b[0;34m(\u001b[0m\u001b[0martist\u001b[0m\u001b[0;34m,\u001b[0m \u001b[0minternal_var\u001b[0m\u001b[0;34m)\u001b[0m \u001b[0;31m#artist는 알아, internal_var 몰라...\u001b[0m\u001b[0;34m\u001b[0m\u001b[0;34m\u001b[0m\u001b[0m\n\u001b[0m",
            "\u001b[0;31mNameError\u001b[0m: name 'internal_var' is not defined"
          ]
        }
      ]
    },
    {
      "cell_type": "markdown",
      "metadata": {
        "id": "eRnQQX-rOsN4"
      },
      "source": [
        "If we print <code>internal_var</code> we get an error."
      ]
    },
    {
      "cell_type": "markdown",
      "metadata": {
        "id": "lC1kewYDOsN5"
      },
      "source": [
        "<b>We got a Name Error:  <code>name 'internal_var' is not defined</code>. Why?</b>  \n",
        "\n",
        "It's because all the variables we create in the function is a <b>local variable</b>, meaning that the variable assignment does not persist outside the function.  \n",
        "\n",
        "But there is a way to create <b>global variables</b> from within a function as follows:"
      ]
    },
    {
      "cell_type": "code",
      "metadata": {
        "id": "GUqNC4PsOsN5",
        "colab": {
          "base_uri": "https://localhost:8080/"
        },
        "outputId": "fb50ec0a-24f1-496a-a5a1-c98bd53fb2b2"
      },
      "source": [
        "artist = \"Michael Jackson\"\n",
        "\n",
        "def printer(artist):\n",
        "    global internal_var #일부러 internal_var이 전역이라는 것을 알려줄 수도 있다. --> 잘 안씀...\n",
        "    internal_var= \"Whitney Houston\"\n",
        "    print(artist,\"is an artist\")\n",
        "\n",
        "printer(artist)\n",
        "printer(internal_var)"
      ],
      "execution_count": 51,
      "outputs": [
        {
          "output_type": "stream",
          "name": "stdout",
          "text": [
            "Michael Jackson is an artist\n",
            "Whitney Houston is an artist\n"
          ]
        }
      ]
    },
    {
      "cell_type": "markdown",
      "metadata": {
        "id": "4jcmcY-cOsN7"
      },
      "source": [
        "<h2 id=\"scope\">Scope of a Variable</h2>"
      ]
    },
    {
      "cell_type": "markdown",
      "metadata": {
        "id": "PMY4B_SoOsN7"
      },
      "source": [
        " The scope of a variable is the part of that program where that variable is accessible. Variables that are declared outside of all function definitions, such as the <code>myFavouriteBand</code> variable in the code shown here, are accessible from anywhere within the program. As a result, such variables are said to have global scope, and are known as global variables.\n",
        "    <code>myFavouriteBand</code> is a global variable, so it is accessible from within the <code>getBandRating</code> function, and we can use it to determine a band's rating. We can also use it outside of the function, such as when we pass it to the print function to display it:"
      ]
    },
    {
      "cell_type": "code",
      "metadata": {
        "id": "FsSe97q4OsN8",
        "colab": {
          "base_uri": "https://localhost:8080/"
        },
        "outputId": "a8eb96c4-bab3-41d8-d457-be4830ae96bc"
      },
      "source": [
        "# Example of global variable\n",
        "\n",
        "myFavouriteBand = \"AC/DC\" #global\n",
        "\n",
        "def getBandRating(bandname):\n",
        "    if bandname == myFavouriteBand:\n",
        "        return 10.0\n",
        "    else:\n",
        "        return 0.0\n",
        "\n",
        "print(\"AC/DC's rating is:\", getBandRating(\"AC/DC\"))\n",
        "print(\"Deep Purple's rating is:\",getBandRating(\"Deep Purple\"))\n",
        "print(\"My favourite band is:\", myFavouriteBand)"
      ],
      "execution_count": 54,
      "outputs": [
        {
          "output_type": "stream",
          "name": "stdout",
          "text": [
            "AC/DC's rating is: 10.0\n",
            "Deep Purple's rating is: 0.0\n",
            "My favourite band is: AC/DC\n"
          ]
        }
      ]
    },
    {
      "cell_type": "markdown",
      "metadata": {
        "id": "m50uWO4UOsN9"
      },
      "source": [
        " Take a look at this modified version of our code. Now the <code>myFavouriteBand</code> variable is defined within the <code>getBandRating</code> function. A variable that is defined within a function is said to be a local variable of that function. That means that it is only accessible from within the function in which it is defined. Our <code>getBandRating</code> function will still work, because <code>myFavouriteBand</code> is still defined within the function. However, we can no longer print <code>myFavouriteBand</code> outside our function, because it is a local variable of our <code>getBandRating</code> function; it is only defined within the <code>getBandRating</code> function:"
      ]
    },
    {
      "cell_type": "code",
      "metadata": {
        "id": "DjEVRC9FOsN-",
        "colab": {
          "base_uri": "https://localhost:8080/",
          "height": 221
        },
        "outputId": "9112784c-ef2e-4382-b4d3-166a5ff0d889"
      },
      "source": [
        "# Example of local variable\n",
        "\n",
        "def getBandRating(bandname):\n",
        "    myFavouriteBand2 = \"AC/DC\" #local variable\n",
        "    if bandname == myFavouriteBand2:\n",
        "        return 10.0\n",
        "    else:\n",
        "        return 0.0\n",
        "\n",
        "print(\"AC/DC's rating is: \", getBandRating(\"AC/DC\"))\n",
        "print(\"Deep Purple's rating is: \", getBandRating(\"Deep Purple\"))\n",
        "print(\"My favourite band is\", myFavouriteBand2)"
      ],
      "execution_count": 55,
      "outputs": [
        {
          "output_type": "stream",
          "name": "stdout",
          "text": [
            "AC/DC's rating is:  10.0\n",
            "Deep Purple's rating is:  0.0\n"
          ]
        },
        {
          "output_type": "error",
          "ename": "NameError",
          "evalue": "name 'myFavouriteBand2' is not defined",
          "traceback": [
            "\u001b[0;31m---------------------------------------------------------------------------\u001b[0m",
            "\u001b[0;31mNameError\u001b[0m                                 Traceback (most recent call last)",
            "\u001b[0;32m<ipython-input-55-f9d0bbad2488>\u001b[0m in \u001b[0;36m<cell line: 0>\u001b[0;34m()\u001b[0m\n\u001b[1;32m     10\u001b[0m \u001b[0mprint\u001b[0m\u001b[0;34m(\u001b[0m\u001b[0;34m\"AC/DC's rating is: \"\u001b[0m\u001b[0;34m,\u001b[0m \u001b[0mgetBandRating\u001b[0m\u001b[0;34m(\u001b[0m\u001b[0;34m\"AC/DC\"\u001b[0m\u001b[0;34m)\u001b[0m\u001b[0;34m)\u001b[0m\u001b[0;34m\u001b[0m\u001b[0;34m\u001b[0m\u001b[0m\n\u001b[1;32m     11\u001b[0m \u001b[0mprint\u001b[0m\u001b[0;34m(\u001b[0m\u001b[0;34m\"Deep Purple's rating is: \"\u001b[0m\u001b[0;34m,\u001b[0m \u001b[0mgetBandRating\u001b[0m\u001b[0;34m(\u001b[0m\u001b[0;34m\"Deep Purple\"\u001b[0m\u001b[0;34m)\u001b[0m\u001b[0;34m)\u001b[0m\u001b[0;34m\u001b[0m\u001b[0;34m\u001b[0m\u001b[0m\n\u001b[0;32m---> 12\u001b[0;31m \u001b[0mprint\u001b[0m\u001b[0;34m(\u001b[0m\u001b[0;34m\"My favourite band is\"\u001b[0m\u001b[0;34m,\u001b[0m \u001b[0mmyFavouriteBand2\u001b[0m\u001b[0;34m)\u001b[0m\u001b[0;34m\u001b[0m\u001b[0;34m\u001b[0m\u001b[0m\n\u001b[0m",
            "\u001b[0;31mNameError\u001b[0m: name 'myFavouriteBand2' is not defined"
          ]
        }
      ]
    },
    {
      "cell_type": "markdown",
      "metadata": {
        "id": "wX2GrfKMOsOA"
      },
      "source": [
        " Finally, take a look at this example. We now have two <code>myFavouriteBand</code> variable definitions. The first one of these has a global scope, and the second of them is a local variable within the <code>getBandRating</code> function. Within the <code>getBandRating</code> function, the local variable takes precedence. **Deep Purple** will receive a rating of 10.0 when passed to the <code>getBandRating</code> function. However, outside of the <code>getBandRating</code> function, the <code>getBandRating</code> s local variable is not defined, so the <code>myFavouriteBand</code> variable we print is the global variable, which has a value of **AC/DC**:"
      ]
    },
    {
      "cell_type": "code",
      "metadata": {
        "id": "GEWCPPfFOsOA"
      },
      "source": [
        "# Example of global variable and local variable with the same name\n",
        "\n",
        "myFavouriteBand = \"AC/DC\"\n",
        "\n",
        "def getBandRating(bandname):\n",
        "    myFavouriteBand = \"Deep Purple\"\n",
        "    if bandname == myFavouriteBand:\n",
        "        return 10.0\n",
        "    else:\n",
        "        return 0.0\n",
        "\n",
        "print(\"AC/DC's rating is:\",getBandRating(\"AC/DC\"))\n",
        "print(\"Deep Purple's rating is: \",getBandRating(\"Deep Purple\"))\n",
        "print(\"My favourite band is:\",myFavouriteBand)"
      ],
      "execution_count": null,
      "outputs": []
    },
    {
      "cell_type": "markdown",
      "metadata": {
        "id": "Zmu4VyiNOsOE"
      },
      "source": [
        "<h2>Quiz on Functions</h2>"
      ]
    },
    {
      "cell_type": "markdown",
      "metadata": {
        "id": "3WHDrF-AOsOF"
      },
      "source": [
        "Come up with a function that divides the first input by the second input:"
      ]
    },
    {
      "cell_type": "code",
      "metadata": {
        "id": "EhhJRbDgOsOF"
      },
      "source": [
        "# Write your code below and press Shift+Enter to execute\n",
        "def devide(a,b):\n",
        "  c = a/b\n",
        "  return c #성영 : 바로 한줄로도 가능함 >>  return(a/b)"
      ],
      "execution_count": 57,
      "outputs": []
    },
    {
      "cell_type": "code",
      "source": [
        "devide(5,2)\n"
      ],
      "metadata": {
        "colab": {
          "base_uri": "https://localhost:8080/"
        },
        "id": "R1t3Eq5TtqFf",
        "outputId": "6003579c-05c7-4fb1-8ab2-e9fc05575b9f"
      },
      "execution_count": 61,
      "outputs": [
        {
          "output_type": "execute_result",
          "data": {
            "text/plain": [
              "2.5"
            ]
          },
          "metadata": {},
          "execution_count": 61
        }
      ]
    },
    {
      "cell_type": "markdown",
      "metadata": {
        "id": "18NZ6IeUOsOH"
      },
      "source": [
        "\n",
        "Double-click __here__ for the solution.\n",
        "\n",
        "<!--\n",
        "def div(a, b):\n",
        "    return(a/b)\n",
        "-->"
      ]
    },
    {
      "cell_type": "markdown",
      "metadata": {
        "id": "POUcqmyqOsOI"
      },
      "source": [
        "<hr>"
      ]
    },
    {
      "cell_type": "markdown",
      "metadata": {
        "id": "bzZ_DiJFOsOI"
      },
      "source": [
        "Use the function <code>con</code> for the following question."
      ]
    },
    {
      "cell_type": "code",
      "metadata": {
        "id": "BqJ8lgVqOsOI"
      },
      "source": [
        "# Use the con function for the following question\n",
        "\n",
        "def con(a, b):\n",
        "    return(a + b)"
      ],
      "execution_count": null,
      "outputs": []
    },
    {
      "cell_type": "markdown",
      "metadata": {
        "id": "HovbxItzOsOL"
      },
      "source": [
        "Can the <code>con</code> function we defined before be used to add to integers or strings?"
      ]
    },
    {
      "cell_type": "code",
      "metadata": {
        "id": "bbQ3MsrDOsOL",
        "colab": {
          "base_uri": "https://localhost:8080/",
          "height": 54
        },
        "outputId": "45c5558c-139a-4fb4-c59f-88a6322c2504"
      },
      "source": [
        "# Write your code below and press Shift+Enter to execute\n",
        "# Yes, function \"con\" can be used to add integers or strings\n",
        "# the following is an example\n",
        "print (con(1,3))\n",
        "con(\"My name is \", \"Sungyoung\")"
      ],
      "execution_count": 64,
      "outputs": [
        {
          "output_type": "stream",
          "name": "stdout",
          "text": [
            "4\n"
          ]
        },
        {
          "output_type": "execute_result",
          "data": {
            "text/plain": [
              "'My name is Sungyoung'"
            ],
            "application/vnd.google.colaboratory.intrinsic+json": {
              "type": "string"
            }
          },
          "metadata": {},
          "execution_count": 64
        }
      ]
    },
    {
      "cell_type": "markdown",
      "metadata": {
        "id": "TDrpafr8OsOM"
      },
      "source": [
        "Double-click __here__ for the solution.\n",
        "\n",
        "<!--\n",
        "yes, for example:\n",
        "con(2, 2)\n",
        " -->"
      ]
    },
    {
      "cell_type": "markdown",
      "metadata": {
        "id": "-j-_N7O0OsON"
      },
      "source": [
        "<hr>"
      ]
    },
    {
      "cell_type": "markdown",
      "metadata": {
        "id": "UhudXzCHOsON"
      },
      "source": [
        "Can the <code>con</code> function we defined before be used to concentrate a list or tuple?"
      ]
    },
    {
      "cell_type": "code",
      "metadata": {
        "id": "dhmsJzmLOsOO",
        "colab": {
          "base_uri": "https://localhost:8080/"
        },
        "outputId": "f2601226-f09d-4ee0-e2c1-e8e8fcfeee3f"
      },
      "source": [
        "# Write your code below and press Shift+Enter to execute\n",
        "# Yes, it can. the following is an example\n",
        "print(con([1,2], [3,4]))\n",
        "print(con([1,'A'], [2,'B']))"
      ],
      "execution_count": 73,
      "outputs": [
        {
          "output_type": "stream",
          "name": "stdout",
          "text": [
            "[1, 2, 3, 4]\n",
            "[1, 'A', 2, 'B']\n"
          ]
        }
      ]
    },
    {
      "cell_type": "markdown",
      "metadata": {
        "id": "C2TDpsc0OsOR"
      },
      "source": [
        "Double-click __here__ for the solution.\n",
        "\n",
        "<!--\n",
        "yes,for example:\n",
        "con(['a', 1], ['b', 1])\n",
        "-->"
      ]
    },
    {
      "cell_type": "markdown",
      "metadata": {
        "id": "FOTJq_d0OsOR"
      },
      "source": [
        "<hr>\n",
        "<h2>The last exercise!</h2>\n",
        "<p>Congratulations, you have completed your first lesson and hands-on lab in Python. However, there is one more thing you need to do. The Data Science community encourages sharing work. The best way to share and showcase your work is to share it on GitHub. By sharing your notebook on GitHub you are not only building your reputation with fellow data scientists, but you can also show it off when applying for a job. Even though this was your first piece of work, it is never too early to start building good habits. Please submit all your exercises to Github & let the traces in our LMS, so for me to access your work\n",
        "<hr>"
      ]
    },
    {
      "cell_type": "markdown",
      "metadata": {
        "id": "C54u3pyGOsOT"
      },
      "source": [
        "<hr>"
      ]
    },
    {
      "cell_type": "markdown",
      "metadata": {
        "id": "cWnKwYZpOsOV"
      },
      "source": [
        "<p>Copyright &copy; 2023 RYU HOKYOUNG based on 2018 IBM Developer Skills Network. This notebook and its source code are released under the terms of the <a href=\"https://cognitiveclass.ai/mit-license/\">MIT License</a>.</p>"
      ]
    }
  ]
}