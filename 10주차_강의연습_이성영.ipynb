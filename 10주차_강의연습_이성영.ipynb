{
 "cells": [
  {
   "cell_type": "code",
   "execution_count": 1,
   "id": "0c4c474b-3452-4e79-982b-872ebcc46a8b",
   "metadata": {},
   "outputs": [],
   "source": [
    "result = 0"
   ]
  },
  {
   "cell_type": "code",
   "execution_count": 5,
   "id": "3d7fa95e-5939-4269-9bed-5c9284b57987",
   "metadata": {},
   "outputs": [],
   "source": [
    "def adder(num):\n",
    "    global result\n",
    "    result += num\n",
    "    return result"
   ]
  },
  {
   "cell_type": "code",
   "execution_count": 7,
   "id": "0c21055f-dffd-42d9-9bd4-d116f56d27ac",
   "metadata": {},
   "outputs": [
    {
     "data": {
      "text/plain": [
       "3"
      ]
     },
     "execution_count": 7,
     "metadata": {},
     "output_type": "execute_result"
    }
   ],
   "source": [
    "adder(3)"
   ]
  },
  {
   "cell_type": "code",
   "execution_count": 9,
   "id": "34f9dd87-59b6-48a3-92ae-a1ae6bc27207",
   "metadata": {},
   "outputs": [
    {
     "data": {
      "text/plain": [
       "7"
      ]
     },
     "execution_count": 9,
     "metadata": {},
     "output_type": "execute_result"
    }
   ],
   "source": [
    "adder(4)"
   ]
  },
  {
   "cell_type": "code",
   "execution_count": 11,
   "id": "4b3bd7c0-68c3-497a-8f33-9e08edbccc21",
   "metadata": {},
   "outputs": [
    {
     "data": {
      "text/plain": [
       "12"
      ]
     },
     "execution_count": 11,
     "metadata": {},
     "output_type": "execute_result"
    }
   ],
   "source": [
    "adder(5)"
   ]
  },
  {
   "cell_type": "code",
   "execution_count": 13,
   "id": "e059698f-60dc-4313-8ef1-9f03a9236f8e",
   "metadata": {},
   "outputs": [],
   "source": [
    "result1 = 0\n",
    "result2 = 0"
   ]
  },
  {
   "cell_type": "code",
   "execution_count": 15,
   "id": "14868afe-6cd3-410f-9169-13cc29b7a560",
   "metadata": {},
   "outputs": [],
   "source": [
    "def adder1(num):\n",
    "    global result1\n",
    "    result1 += num\n",
    "    return result1"
   ]
  },
  {
   "cell_type": "code",
   "execution_count": 17,
   "id": "14633ab2-10c9-49c6-9ac5-b915811feb1b",
   "metadata": {},
   "outputs": [],
   "source": [
    "def adder2(num):\n",
    "    global result2\n",
    "    result2 += num\n",
    "    return result2"
   ]
  },
  {
   "cell_type": "code",
   "execution_count": 19,
   "id": "762979cc-bd99-47fd-9054-ce2cb22a45d3",
   "metadata": {},
   "outputs": [
    {
     "data": {
      "text/plain": [
       "3"
      ]
     },
     "execution_count": 19,
     "metadata": {},
     "output_type": "execute_result"
    }
   ],
   "source": [
    "adder1(3)"
   ]
  },
  {
   "cell_type": "code",
   "execution_count": 21,
   "id": "c577e1ef-f637-4bca-99ed-8175f1d1beac",
   "metadata": {},
   "outputs": [
    {
     "data": {
      "text/plain": [
       "12"
      ]
     },
     "execution_count": 21,
     "metadata": {},
     "output_type": "execute_result"
    }
   ],
   "source": [
    "adder1(9)"
   ]
  },
  {
   "cell_type": "code",
   "execution_count": 23,
   "id": "992502de-6708-4d8b-b8cc-000139bdf7ab",
   "metadata": {},
   "outputs": [
    {
     "data": {
      "text/plain": [
       "4"
      ]
     },
     "execution_count": 23,
     "metadata": {},
     "output_type": "execute_result"
    }
   ],
   "source": [
    "adder2(4)"
   ]
  },
  {
   "cell_type": "code",
   "execution_count": 25,
   "id": "913161ee-c7e4-419d-9e35-5c6a736802e4",
   "metadata": {},
   "outputs": [
    {
     "data": {
      "text/plain": [
       "10"
      ]
     },
     "execution_count": 25,
     "metadata": {},
     "output_type": "execute_result"
    }
   ],
   "source": [
    "adder2(6)"
   ]
  },
  {
   "cell_type": "code",
   "execution_count": 3,
   "id": "51105a6f-87c7-4bc3-a64f-9877416ebd8c",
   "metadata": {},
   "outputs": [],
   "source": [
    "class Calculator:\n",
    "    def __init__(self): # 성영 : 초기값을 설정하는 생성자(constructor) - 객체가 생성될 때 자동으로 호출되는 Method\n",
    "        self.result = 0 # 성영 : 개체를 생성할 때 사용할 수 있는 변수\n",
    "        \n",
    "    def adder(self, num):\n",
    "        self.result += num\n",
    "        return self.result"
   ]
  },
  {
   "cell_type": "code",
   "execution_count": 5,
   "id": "647875a2-3493-4aee-8f0c-969b1748a589",
   "metadata": {},
   "outputs": [],
   "source": [
    "cal1 = Calculator()\n",
    "cal2 = Calculator()"
   ]
  },
  {
   "cell_type": "code",
   "execution_count": 7,
   "id": "7b999312-33fb-4a5c-b68d-12b5be8ebfd1",
   "metadata": {},
   "outputs": [
    {
     "data": {
      "text/plain": [
       "3"
      ]
     },
     "execution_count": 7,
     "metadata": {},
     "output_type": "execute_result"
    }
   ],
   "source": [
    "cal1.adder(3)"
   ]
  },
  {
   "cell_type": "code",
   "execution_count": 9,
   "id": "d57ba1f6-1d76-49e2-b5cd-bde6c64facf2",
   "metadata": {},
   "outputs": [
    {
     "data": {
      "text/plain": [
       "7"
      ]
     },
     "execution_count": 9,
     "metadata": {},
     "output_type": "execute_result"
    }
   ],
   "source": [
    "cal1.adder(4)"
   ]
  },
  {
   "cell_type": "code",
   "execution_count": 11,
   "id": "01010ae4-8b0c-438a-b276-456d648f3747",
   "metadata": {},
   "outputs": [
    {
     "data": {
      "text/plain": [
       "10"
      ]
     },
     "execution_count": 11,
     "metadata": {},
     "output_type": "execute_result"
    }
   ],
   "source": [
    "cal2.adder(10)"
   ]
  },
  {
   "cell_type": "code",
   "execution_count": 13,
   "id": "b0c34725-3d11-4cae-9c1c-f7a0c42218f0",
   "metadata": {},
   "outputs": [
    {
     "data": {
      "text/plain": [
       "115"
      ]
     },
     "execution_count": 13,
     "metadata": {},
     "output_type": "execute_result"
    }
   ],
   "source": [
    "cal2.adder(105)"
   ]
  },
  {
   "cell_type": "code",
   "execution_count": 23,
   "id": "f08007ad-eaeb-4e4e-bc06-100eec6aa864",
   "metadata": {},
   "outputs": [
    {
     "data": {
      "text/plain": [
       "115"
      ]
     },
     "execution_count": 23,
     "metadata": {},
     "output_type": "execute_result"
    }
   ],
   "source": [
    "cal2.result"
   ]
  },
  {
   "cell_type": "code",
   "execution_count": 15,
   "id": "634cbb06-e76c-4b79-ade8-1c2499dc3d74",
   "metadata": {},
   "outputs": [],
   "source": [
    "class Service:\n",
    "    secret = '지구는 4006년에 멸망한다' #성영 : 클래스 변수 Class 바로 아래 명시"
   ]
  },
  {
   "cell_type": "code",
   "execution_count": 17,
   "id": "4b7f77d1-eff5-4d41-a5f5-bb29ba154010",
   "metadata": {},
   "outputs": [],
   "source": [
    "s = Service()"
   ]
  },
  {
   "cell_type": "code",
   "execution_count": 19,
   "id": "2b45e01a-fdec-4a46-8ef4-e092c6b09992",
   "metadata": {},
   "outputs": [
    {
     "data": {
      "text/plain": [
       "'지구는 4006년에 멸망한다'"
      ]
     },
     "execution_count": 19,
     "metadata": {},
     "output_type": "execute_result"
    }
   ],
   "source": [
    "s.secret"
   ]
  },
  {
   "cell_type": "code",
   "execution_count": 25,
   "id": "f00f6691-fd69-49a0-87be-b2b4228627be",
   "metadata": {},
   "outputs": [],
   "source": [
    "s2 = Service()"
   ]
  },
  {
   "cell_type": "code",
   "execution_count": 27,
   "id": "3185b4f6-e566-47a9-82c3-05e4a3f4e6c4",
   "metadata": {},
   "outputs": [
    {
     "data": {
      "text/plain": [
       "'지구는 4006년에 멸망한다'"
      ]
     },
     "execution_count": 27,
     "metadata": {},
     "output_type": "execute_result"
    }
   ],
   "source": [
    "s2.secret"
   ]
  },
  {
   "cell_type": "code",
   "execution_count": 29,
   "id": "738bbf12-5196-4cc3-8de1-805f0c0ac36f",
   "metadata": {},
   "outputs": [
    {
     "data": {
      "text/plain": [
       "'지구는 4006년에 멸망한다'"
      ]
     },
     "execution_count": 29,
     "metadata": {},
     "output_type": "execute_result"
    }
   ],
   "source": [
    "Service.secret #성영 : 클래스이름으로 바로 접근 가능 / 객체를 만들지 않아도"
   ]
  },
  {
   "cell_type": "code",
   "execution_count": 31,
   "id": "30c6d81f-3dc9-44c7-86aa-7b6648864db6",
   "metadata": {},
   "outputs": [],
   "source": [
    "Service.secret = '지구가 4006년에 명망한다는 말은 뻥이다'"
   ]
  },
  {
   "cell_type": "code",
   "execution_count": 33,
   "id": "c9a9c574-555b-40e7-8196-03ad4d3a69e3",
   "metadata": {},
   "outputs": [
    {
     "data": {
      "text/plain": [
       "'지구가 4006년에 명망한다는 말은 뻥이다'"
      ]
     },
     "execution_count": 33,
     "metadata": {},
     "output_type": "execute_result"
    }
   ],
   "source": [
    "Service.secret"
   ]
  },
  {
   "cell_type": "code",
   "execution_count": 45,
   "id": "4e6a3fa8-50fd-4a1e-ba5c-3720e40d2d98",
   "metadata": {},
   "outputs": [],
   "source": [
    "class Service:\n",
    "    secret = \"지구는 4006년에 멸망한다\"\n",
    "\n",
    "    def setname(self, name):\n",
    "        self.name = name\n",
    "\n",
    "    def sum(self, a, b):\n",
    "        result = a + b\n",
    "        print(\"%s 님, %s + %s = %s 입니다.\" % (self.name, a, b, result))"
   ]
  },
  {
   "cell_type": "code",
   "execution_count": 47,
   "id": "e650c6a1-4ea0-4ffc-89a0-d08a1e78d774",
   "metadata": {},
   "outputs": [],
   "source": [
    "an = Service()"
   ]
  },
  {
   "cell_type": "code",
   "execution_count": 51,
   "id": "5361cd62-6ddc-4906-964a-9fed33d9e9db",
   "metadata": {},
   "outputs": [],
   "source": [
    "an.setname('박달도사')"
   ]
  },
  {
   "cell_type": "code",
   "execution_count": 53,
   "id": "2ebb6229-068d-4b76-99cf-53aaf34f16c6",
   "metadata": {},
   "outputs": [
    {
     "name": "stdout",
     "output_type": "stream",
     "text": [
      "박달도사 님, 2 + 3 = 5 입니다.\n"
     ]
    }
   ],
   "source": [
    "an.sum(2,3)"
   ]
  },
  {
   "cell_type": "code",
   "execution_count": 55,
   "id": "6ad7e514-4667-44b2-a586-4e18645919aa",
   "metadata": {},
   "outputs": [],
   "source": [
    "lee = Service()"
   ]
  },
  {
   "cell_type": "code",
   "execution_count": 57,
   "id": "8c3817c5-503a-4a12-b671-dd27af6cca5e",
   "metadata": {},
   "outputs": [
    {
     "ename": "AttributeError",
     "evalue": "'Service' object has no attribute 'name'",
     "output_type": "error",
     "traceback": [
      "\u001b[1;31m---------------------------------------------------------------------------\u001b[0m",
      "\u001b[1;31mAttributeError\u001b[0m                            Traceback (most recent call last)",
      "Cell \u001b[1;32mIn[57], line 1\u001b[0m\n\u001b[1;32m----> 1\u001b[0m \u001b[43mlee\u001b[49m\u001b[38;5;241;43m.\u001b[39;49m\u001b[43msum\u001b[49m\u001b[43m(\u001b[49m\u001b[38;5;241;43m2\u001b[39;49m\u001b[43m,\u001b[49m\u001b[38;5;241;43m3\u001b[39;49m\u001b[43m)\u001b[49m\n",
      "Cell \u001b[1;32mIn[45], line 9\u001b[0m, in \u001b[0;36mService.sum\u001b[1;34m(self, a, b)\u001b[0m\n\u001b[0;32m      7\u001b[0m \u001b[38;5;28;01mdef\u001b[39;00m \u001b[38;5;21msum\u001b[39m(\u001b[38;5;28mself\u001b[39m, a, b):\n\u001b[0;32m      8\u001b[0m     result \u001b[38;5;241m=\u001b[39m a \u001b[38;5;241m+\u001b[39m b\n\u001b[1;32m----> 9\u001b[0m     \u001b[38;5;28mprint\u001b[39m(\u001b[38;5;124m\"\u001b[39m\u001b[38;5;132;01m%s\u001b[39;00m\u001b[38;5;124m 님, \u001b[39m\u001b[38;5;132;01m%s\u001b[39;00m\u001b[38;5;124m + \u001b[39m\u001b[38;5;132;01m%s\u001b[39;00m\u001b[38;5;124m = \u001b[39m\u001b[38;5;132;01m%s\u001b[39;00m\u001b[38;5;124m 입니다.\u001b[39m\u001b[38;5;124m\"\u001b[39m \u001b[38;5;241m%\u001b[39m (\u001b[38;5;28;43mself\u001b[39;49m\u001b[38;5;241;43m.\u001b[39;49m\u001b[43mname\u001b[49m, a, b, result))\n",
      "\u001b[1;31mAttributeError\u001b[0m: 'Service' object has no attribute 'name'"
     ]
    }
   ],
   "source": [
    "lee.sum(2,3)"
   ]
  },
  {
   "cell_type": "code",
   "execution_count": 67,
   "id": "3dd35cc6-1661-491b-95df-1a5e8f829184",
   "metadata": {},
   "outputs": [],
   "source": [
    "class Service():\n",
    "    secret = \"지구는 4006년에 멸망한다\"\n",
    "    def __init__ (self, name): #성영 : 객체를 만들 때 자동으로 호출되는 method\n",
    "        self.name = name\n",
    "    def sum(self, a, b):\n",
    "        result = a + b\n",
    "        print (\"%s님, %s + %s = %s 입니다.\" % (self.name, a, b, result))"
   ]
  },
  {
   "cell_type": "code",
   "execution_count": 69,
   "id": "603715f4-71e5-474e-9d5c-cbb451ef27b6",
   "metadata": {},
   "outputs": [],
   "source": [
    "lee = Service(\"이성영\") # 처음 객체를 만들 때 입력값을 받아, __init__함수에 입력"
   ]
  },
  {
   "cell_type": "code",
   "execution_count": 71,
   "id": "3f159107-e54a-4f23-874b-fb81cc63b623",
   "metadata": {},
   "outputs": [
    {
     "name": "stdout",
     "output_type": "stream",
     "text": [
      "이성영님, 2 + 5 = 7 입니다.\n"
     ]
    }
   ],
   "source": [
    "lee.sum(2, 5)"
   ]
  },
  {
   "cell_type": "code",
   "execution_count": 73,
   "id": "55ec39c8-9b30-411f-8660-376a5ab32ad2",
   "metadata": {},
   "outputs": [
    {
     "name": "stdout",
     "output_type": "stream",
     "text": [
      "이성영님, 2 + 5 = 7 입니다.\n"
     ]
    }
   ],
   "source": [
    "lee.sum(2,5)"
   ]
  },
  {
   "cell_type": "code",
   "execution_count": 75,
   "id": "18b7cbc7-031d-44bd-9e9d-47aa84fffb92",
   "metadata": {},
   "outputs": [],
   "source": [
    "class FourCalc:\n",
    "    pass"
   ]
  },
  {
   "cell_type": "code",
   "execution_count": 77,
   "id": "8aaf3c93-bfb3-4dd8-b792-b738f7c7d19a",
   "metadata": {},
   "outputs": [],
   "source": [
    "a = FourCalc()"
   ]
  },
  {
   "cell_type": "code",
   "execution_count": 81,
   "id": "43fa13c4-567f-4905-ab24-cc55eafedd23",
   "metadata": {},
   "outputs": [
    {
     "name": "stdout",
     "output_type": "stream",
     "text": [
      "<class '__main__.FourCalc'>\n"
     ]
    }
   ],
   "source": [
    "print(type(a))"
   ]
  },
  {
   "cell_type": "code",
   "execution_count": 105,
   "id": "94c00671-f191-46ca-a374-d029c025a056",
   "metadata": {},
   "outputs": [],
   "source": [
    "class FourCalc:\n",
    "    def setdata(self, first, second):\n",
    "        self.first = first\n",
    "        self.second = second\n",
    "    \n",
    "    def sum(self):\n",
    "        result = self.first + self.second\n",
    "        return result\n",
    "\n",
    "    def mul(self):\n",
    "        result = self.first * self.second\n",
    "        return result\n",
    "\n",
    "    def sub(self):\n",
    "        result = self.first - self.second\n",
    "        return result\n",
    "\n",
    "    def div(self):\n",
    "        result = self.first / self.second\n",
    "        return result"
   ]
  },
  {
   "cell_type": "code",
   "execution_count": 107,
   "id": "7788af78-d654-433b-8fb3-1edbef60feca",
   "metadata": {},
   "outputs": [],
   "source": [
    "a = FourCalc()"
   ]
  },
  {
   "cell_type": "code",
   "execution_count": 109,
   "id": "21f46a47-a6fe-4a20-b31f-97dfe1dc5144",
   "metadata": {},
   "outputs": [],
   "source": [
    "a.setdata(4,2)"
   ]
  },
  {
   "cell_type": "code",
   "execution_count": 111,
   "id": "902c2eeb-a0ca-4618-8cee-e7c401e38081",
   "metadata": {},
   "outputs": [
    {
     "name": "stdout",
     "output_type": "stream",
     "text": [
      "4\n"
     ]
    }
   ],
   "source": [
    "print(a.first)"
   ]
  },
  {
   "cell_type": "code",
   "execution_count": 113,
   "id": "f9e45fe0-9cf3-41e9-b5e1-6b30b4fbe3ac",
   "metadata": {},
   "outputs": [
    {
     "name": "stdout",
     "output_type": "stream",
     "text": [
      "2\n"
     ]
    }
   ],
   "source": [
    "print(a.second)"
   ]
  },
  {
   "cell_type": "code",
   "execution_count": 115,
   "id": "eb781497-5c59-40eb-8a20-acdab9305501",
   "metadata": {},
   "outputs": [
    {
     "data": {
      "text/plain": [
       "6"
      ]
     },
     "execution_count": 115,
     "metadata": {},
     "output_type": "execute_result"
    }
   ],
   "source": [
    "a.sum()"
   ]
  },
  {
   "cell_type": "code",
   "execution_count": 117,
   "id": "9731d37d-85a2-4cd3-92f4-486f1300b596",
   "metadata": {},
   "outputs": [
    {
     "name": "stdout",
     "output_type": "stream",
     "text": [
      "8\n"
     ]
    }
   ],
   "source": [
    "print(a.mul())"
   ]
  },
  {
   "cell_type": "code",
   "execution_count": 119,
   "id": "c78ae7c4-fc4b-4a89-9949-324e83cd2309",
   "metadata": {},
   "outputs": [
    {
     "data": {
      "text/plain": [
       "2"
      ]
     },
     "execution_count": 119,
     "metadata": {},
     "output_type": "execute_result"
    }
   ],
   "source": [
    "a.sub()"
   ]
  },
  {
   "cell_type": "code",
   "execution_count": 121,
   "id": "fd108e5b-27a1-4c96-b14f-51f5fcab09d2",
   "metadata": {},
   "outputs": [
    {
     "data": {
      "text/plain": [
       "2.0"
      ]
     },
     "execution_count": 121,
     "metadata": {},
     "output_type": "execute_result"
    }
   ],
   "source": [
    "a.div()"
   ]
  },
  {
   "cell_type": "code",
   "execution_count": 123,
   "id": "cc8703c6-28cf-4f37-b185-c06d9e2205f7",
   "metadata": {},
   "outputs": [],
   "source": [
    "b = FourCalc()"
   ]
  },
  {
   "cell_type": "code",
   "execution_count": 125,
   "id": "4835f52f-9ebd-42e7-9663-8cf17a3cbdf4",
   "metadata": {},
   "outputs": [],
   "source": [
    "b.setdata(3,7)"
   ]
  },
  {
   "cell_type": "code",
   "execution_count": 127,
   "id": "b9375c6d-8e53-4bc3-ae99-b7eeab11becd",
   "metadata": {},
   "outputs": [
    {
     "data": {
      "text/plain": [
       "10"
      ]
     },
     "execution_count": 127,
     "metadata": {},
     "output_type": "execute_result"
    }
   ],
   "source": [
    "b.sum()"
   ]
  },
  {
   "cell_type": "code",
   "execution_count": 129,
   "id": "a2dd5205-bd27-4e3a-92a3-3de828dbfc89",
   "metadata": {},
   "outputs": [
    {
     "data": {
      "text/plain": [
       "-4"
      ]
     },
     "execution_count": 129,
     "metadata": {},
     "output_type": "execute_result"
    }
   ],
   "source": [
    "b.sub()"
   ]
  },
  {
   "cell_type": "code",
   "execution_count": 131,
   "id": "f0742bdf-6eb1-4f54-b574-fcc6b567822f",
   "metadata": {},
   "outputs": [
    {
     "data": {
      "text/plain": [
       "21"
      ]
     },
     "execution_count": 131,
     "metadata": {},
     "output_type": "execute_result"
    }
   ],
   "source": [
    "b.mul()"
   ]
  },
  {
   "cell_type": "code",
   "execution_count": 133,
   "id": "8f91e0df-e879-4a11-9172-90506208ca03",
   "metadata": {},
   "outputs": [
    {
     "data": {
      "text/plain": [
       "0.42857142857142855"
      ]
     },
     "execution_count": 133,
     "metadata": {},
     "output_type": "execute_result"
    }
   ],
   "source": [
    "b.div()"
   ]
  },
  {
   "cell_type": "code",
   "execution_count": 137,
   "id": "48a1b3b0-e7a1-40f2-bc70-3dbea0d0a20d",
   "metadata": {},
   "outputs": [
    {
     "name": "stdout",
     "output_type": "stream",
     "text": [
      "Player1 rolled[4, 6, 1]\n",
      "Player2 rolled[2, 6, 2]\n",
      "Player1 wins\n"
     ]
    }
   ],
   "source": [
    "import random\n",
    "\n",
    "player1_dice = []\n",
    "player2_dice = []\n",
    "\n",
    "for i in range(3):\n",
    "    player1_dice.append(random.randint(1,6))\n",
    "    player2_dice.append(random.randint(1,6))\n",
    "\n",
    "print(\"Player1 rolled\" + str(player1_dice))\n",
    "print(\"Player2 rolled\" + str(player2_dice))\n",
    "\n",
    "if sum(player1_dice) == sum(player2_dice):\n",
    "    print(\"Draw\")\n",
    "elif sum(player1_dice) > sum(player2_dice):\n",
    "    print(\"Player1 wins\")\n",
    "else:\n",
    "    print(\"Player2 wins\")"
   ]
  },
  {
   "cell_type": "code",
   "execution_count": 168,
   "id": "0ba84f54-2fdf-4256-97ba-537495ae130d",
   "metadata": {},
   "outputs": [],
   "source": [
    "from random import randint\n",
    "\n",
    "class Player:\n",
    "    def __init__(self):\n",
    "        self.dice = []\n",
    "\n",
    "    def roll(self):\n",
    "        self.dice = [] # clear current dice\n",
    "        for i in range(3):\n",
    "            self.dice.append(randint(1,6))\n",
    "\n",
    "    def get_dice(self):\n",
    "        return self.dice"
   ]
  },
  {
   "cell_type": "code",
   "execution_count": 170,
   "id": "9ad557c3-5483-4233-80f1-5f5c6f649c51",
   "metadata": {},
   "outputs": [],
   "source": [
    "player1 = Player()\n",
    "player2 = Player()"
   ]
  },
  {
   "cell_type": "code",
   "execution_count": 172,
   "id": "4af07669-d882-403c-a2a8-478d87ad013d",
   "metadata": {},
   "outputs": [],
   "source": [
    "player1.roll()\n",
    "player2.roll()"
   ]
  },
  {
   "cell_type": "code",
   "execution_count": 174,
   "id": "7f0ff2e8-0737-4791-a8f9-478f6bd39495",
   "metadata": {},
   "outputs": [
    {
     "name": "stdout",
     "output_type": "stream",
     "text": [
      "Player1 rolled[3, 4, 5]\n",
      "Player2 rolled[4, 3, 1]\n"
     ]
    }
   ],
   "source": [
    "print(\"Player1 rolled\" + str(player1.get_dice()))\n",
    "print(\"Player2 rolled\" + str(player2.get_dice()))"
   ]
  },
  {
   "cell_type": "code",
   "execution_count": 176,
   "id": "734b839d-a6ac-4f39-8740-75e0c6d295d9",
   "metadata": {},
   "outputs": [
    {
     "name": "stdout",
     "output_type": "stream",
     "text": [
      "Player1 wins!\n"
     ]
    }
   ],
   "source": [
    "if sum(player1.get_dice()) == sum(player2.get_dice()):\n",
    "    print (\"Draw\")\n",
    "elif sum(player1.get_dice()) > sum(player2.get_dice()):\n",
    "    print (\"Player1 wins!\")\n",
    "else:\n",
    "    print (\"Player2 wins!\")"
   ]
  },
  {
   "cell_type": "code",
   "execution_count": null,
   "id": "67c799d2-ceb0-45a5-bb2d-4389262a08a6",
   "metadata": {},
   "outputs": [],
   "source": []
  },
  {
   "cell_type": "code",
   "execution_count": null,
   "id": "2d73da36-5c40-4446-a8ac-f0515a416a67",
   "metadata": {},
   "outputs": [],
   "source": []
  }
 ],
 "metadata": {
  "kernelspec": {
   "display_name": "Python [conda env:Orange]",
   "language": "python",
   "name": "conda-env-Orange-py"
  },
  "language_info": {
   "codemirror_mode": {
    "name": "ipython",
    "version": 3
   },
   "file_extension": ".py",
   "mimetype": "text/x-python",
   "name": "python",
   "nbconvert_exporter": "python",
   "pygments_lexer": "ipython3",
   "version": "3.11.8"
  }
 },
 "nbformat": 4,
 "nbformat_minor": 5
}
