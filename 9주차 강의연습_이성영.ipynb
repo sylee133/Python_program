{
 "cells": [
  {
   "cell_type": "code",
   "execution_count": 41,
   "id": "8f077e9e-02fc-4ef6-9fba-dadeefa97e5a",
   "metadata": {},
   "outputs": [],
   "source": [
    "number_list = []\n",
    "number_list.append(1)\n",
    "number_list.append(2)\n",
    "number_list.append(3)\n",
    "number_list.append(4)\n",
    "number_list.append(5)"
   ]
  },
  {
   "cell_type": "code",
   "execution_count": 47,
   "id": "39dd7cba-8df4-4c8d-8e10-8a8fd977c2f0",
   "metadata": {},
   "outputs": [
    {
     "name": "stdout",
     "output_type": "stream",
     "text": [
      "[1, 2, 3, 4, 5]\n"
     ]
    }
   ],
   "source": [
    "print(number_list)"
   ]
  },
  {
   "cell_type": "code",
   "execution_count": 39,
   "id": "ba12d11b-fe1a-437c-9a85-e37bb8989017",
   "metadata": {},
   "outputs": [],
   "source": [
    "number_list = []\n",
    "for number in range (1,6):\n",
    "    number_list.append(number)"
   ]
  },
  {
   "cell_type": "code",
   "execution_count": 45,
   "id": "6e893b2c-2dc7-451a-a66f-e73bbc3abd10",
   "metadata": {},
   "outputs": [
    {
     "data": {
      "text/plain": [
       "[1, 2, 3, 4, 5]"
      ]
     },
     "execution_count": 45,
     "metadata": {},
     "output_type": "execute_result"
    }
   ],
   "source": [
    "number_list"
   ]
  },
  {
   "cell_type": "code",
   "execution_count": 51,
   "id": "2f99ccff-609d-41d9-ad95-43b6d98a7cad",
   "metadata": {},
   "outputs": [
    {
     "data": {
      "text/plain": [
       "[1, 2, 3, 4, 5, 6]"
      ]
     },
     "execution_count": 51,
     "metadata": {},
     "output_type": "execute_result"
    }
   ],
   "source": [
    "number_list = list(range(1,7))\n",
    "number_list"
   ]
  },
  {
   "cell_type": "code",
   "execution_count": 55,
   "id": "cdb2bac5-7f52-4bfa-bc50-1be4b428d95a",
   "metadata": {},
   "outputs": [
    {
     "name": "stdout",
     "output_type": "stream",
     "text": [
      "[1, 2, 3, 4, 5]\n"
     ]
    }
   ],
   "source": [
    "number_list = [number for number in range(1,6)]\n",
    "print (number_list)"
   ]
  },
  {
   "cell_type": "code",
   "execution_count": 59,
   "id": "b5d08095-0e03-48dd-b83e-508b46c78ffa",
   "metadata": {},
   "outputs": [
    {
     "data": {
      "text/plain": [
       "[0, 1, 2, 3, 4]"
      ]
     },
     "execution_count": 59,
     "metadata": {},
     "output_type": "execute_result"
    }
   ],
   "source": [
    "number_list = [number-1 for number in range(1,6)]\n",
    "number_list"
   ]
  },
  {
   "cell_type": "code",
   "execution_count": 65,
   "id": "6bc25928-d873-4058-942f-9fa56ab8ed13",
   "metadata": {},
   "outputs": [
    {
     "data": {
      "text/plain": [
       "[1, 3, 5]"
      ]
     },
     "execution_count": 65,
     "metadata": {},
     "output_type": "execute_result"
    }
   ],
   "source": [
    "a_list = [number for number in range (1,6) if number %2 == 1]\n",
    "a_list"
   ]
  },
  {
   "cell_type": "code",
   "execution_count": 67,
   "id": "d7bc13da-cc80-4e5d-8c6b-5d46f6305dcd",
   "metadata": {},
   "outputs": [
    {
     "data": {
      "text/plain": [
       "[1, 3, 5]"
      ]
     },
     "execution_count": 67,
     "metadata": {},
     "output_type": "execute_result"
    }
   ],
   "source": [
    "a_list = []\n",
    "for number in range (1,6):\n",
    "    if number %2 == 1:\n",
    "        a_list.append(number)\n",
    "\n",
    "a_list"
   ]
  },
  {
   "cell_type": "code",
   "execution_count": 69,
   "id": "219b4d80-5834-462f-9070-51611ba9f577",
   "metadata": {},
   "outputs": [],
   "source": [
    "sentence = ['I', 'Love', 'Python', 'Soooo~~', 'MUCH']"
   ]
  },
  {
   "cell_type": "code",
   "execution_count": 71,
   "id": "00403a83-55eb-4ce8-b440-4424dada650e",
   "metadata": {},
   "outputs": [
    {
     "data": {
      "text/plain": [
       "['i', 'love', 'python', 'soooo~~', 'much']"
      ]
     },
     "execution_count": 71,
     "metadata": {},
     "output_type": "execute_result"
    }
   ],
   "source": [
    "[word.lower() for word in sentence]"
   ]
  },
  {
   "cell_type": "code",
   "execution_count": 73,
   "id": "7c05f1d6-9cf0-4656-ac69-b54a54e8880a",
   "metadata": {},
   "outputs": [
    {
     "data": {
      "text/plain": [
       "['I', 'LOVE', 'PYTHON', 'SOOOO~~', 'MUCH']"
      ]
     },
     "execution_count": 73,
     "metadata": {},
     "output_type": "execute_result"
    }
   ],
   "source": [
    "[word.upper() for word in sentence]"
   ]
  },
  {
   "cell_type": "raw",
   "id": "2586b5ca-7476-4b2a-b075-33773a86ebd6",
   "metadata": {},
   "source": [
    "[word() for word in sentence if len(word) > 6]"
   ]
  },
  {
   "cell_type": "code",
   "execution_count": 75,
   "id": "65a936db-3b26-4b92-9ac6-4c32b6ef165e",
   "metadata": {},
   "outputs": [
    {
     "data": {
      "text/plain": [
       "[(0, 0, 0),\n",
       " (1, 1, 1),\n",
       " (2, 4, 8),\n",
       " (3, 9, 27),\n",
       " (4, 16, 64),\n",
       " (5, 25, 125),\n",
       " (6, 36, 216),\n",
       " (7, 49, 343),\n",
       " (8, 64, 512),\n",
       " (9, 81, 729)]"
      ]
     },
     "execution_count": 75,
     "metadata": {},
     "output_type": "execute_result"
    }
   ],
   "source": [
    "[(x,x**2,x**3) for x in range(10)]"
   ]
  },
  {
   "cell_type": "code",
   "execution_count": 77,
   "id": "9c12e259-18b8-4e03-a60a-2087423e175b",
   "metadata": {},
   "outputs": [
    {
     "name": "stdout",
     "output_type": "stream",
     "text": [
      "1 1\n",
      "1 2\n",
      "2 1\n",
      "2 2\n",
      "3 1\n",
      "3 2\n"
     ]
    }
   ],
   "source": [
    "rows = range(1,4)\n",
    "cols = range(1,3)\n",
    "for row in rows:\n",
    "    for col in cols:\n",
    "        print(row,col)"
   ]
  },
  {
   "cell_type": "code",
   "execution_count": 79,
   "id": "96d168ed-65f0-48e1-94e7-af8d413fe5e8",
   "metadata": {},
   "outputs": [
    {
     "name": "stdout",
     "output_type": "stream",
     "text": [
      "(1, 1)\n",
      "(1, 2)\n",
      "(2, 1)\n",
      "(2, 2)\n",
      "(3, 1)\n",
      "(3, 2)\n"
     ]
    }
   ],
   "source": [
    "rows = range(1,4)\n",
    "cols = range(1,3)\n",
    "cells = [(row,col) for row in rows for col in cols]\n",
    "for cell in cells:\n",
    "    print(cell)"
   ]
  },
  {
   "cell_type": "code",
   "execution_count": 85,
   "id": "fd2fc578-3edb-4b11-8077-ff95143a8d22",
   "metadata": {},
   "outputs": [
    {
     "data": {
      "text/plain": [
       "[(1, 0),\n",
       " (2, 0),\n",
       " (2, 1),\n",
       " (3, 0),\n",
       " (3, 1),\n",
       " (3, 2),\n",
       " (4, 0),\n",
       " (4, 1),\n",
       " (4, 2),\n",
       " (4, 3)]"
      ]
     },
     "execution_count": 85,
     "metadata": {},
     "output_type": "execute_result"
    }
   ],
   "source": [
    "[(i,j) for i in range(5) for j in range(i)]"
   ]
  },
  {
   "cell_type": "code",
   "execution_count": 10,
   "id": "a8abc9b4-dbd3-4097-b4a3-dd1a680caef3",
   "metadata": {},
   "outputs": [
    {
     "data": {
      "text/plain": [
       "'letters'"
      ]
     },
     "execution_count": 10,
     "metadata": {},
     "output_type": "execute_result"
    }
   ],
   "source": [
    "word = 'letters'\n",
    "word"
   ]
  },
  {
   "cell_type": "code",
   "execution_count": 93,
   "id": "ca3fa4c5-9645-4b2b-b460-314b317ebb23",
   "metadata": {},
   "outputs": [
    {
     "name": "stdout",
     "output_type": "stream",
     "text": [
      "{'l': 1, 'e': 2, 't': 2, 'r': 1, 's': 1}\n"
     ]
    }
   ],
   "source": [
    "word = 'letters'\n",
    "letter_counts = {letter:word.count(letter) for letter in word}\n",
    "print (letter_counts)"
   ]
  },
  {
   "cell_type": "code",
   "execution_count": 95,
   "id": "8f35d2a6-71bf-4b0c-9394-207374f4d5ba",
   "metadata": {},
   "outputs": [
    {
     "data": {
      "text/plain": [
       "{'s': 1, 'e': 2, 'r': 1, 't': 2, 'l': 1}"
      ]
     },
     "execution_count": 95,
     "metadata": {},
     "output_type": "execute_result"
    }
   ],
   "source": [
    "word = 'letters'\n",
    "letter_counts = {letter:word.count(letter) for letter in set(word)}\n",
    "letter_counts"
   ]
  },
  {
   "cell_type": "code",
   "execution_count": 97,
   "id": "b97ee450-2614-4691-ae03-b31a13400b22",
   "metadata": {},
   "outputs": [
    {
     "data": {
      "text/plain": [
       "{1, 4}"
      ]
     },
     "execution_count": 97,
     "metadata": {},
     "output_type": "execute_result"
    }
   ],
   "source": [
    "a_set = {number for number in range(1,6) if number%3 == 1}\n",
    "a_set"
   ]
  },
  {
   "cell_type": "code",
   "execution_count": 19,
   "id": "957bbd24-6641-4583-a3f7-10e0d870d737",
   "metadata": {},
   "outputs": [],
   "source": [
    "def sum(a,b):\n",
    "    return a+b"
   ]
  },
  {
   "cell_type": "code",
   "execution_count": 21,
   "id": "21f64c56-7ab3-4a67-9c28-61254d23eeb7",
   "metadata": {},
   "outputs": [],
   "source": [
    "p = sum (1,1)"
   ]
  },
  {
   "cell_type": "code",
   "execution_count": 23,
   "id": "110b7acf-c8a7-43dc-9303-442c58464643",
   "metadata": {},
   "outputs": [
    {
     "data": {
      "text/plain": [
       "2"
      ]
     },
     "execution_count": 23,
     "metadata": {},
     "output_type": "execute_result"
    }
   ],
   "source": [
    "p"
   ]
  },
  {
   "cell_type": "code",
   "execution_count": 99,
   "id": "3c896caa-911d-4341-a1f1-27abbe29c6dd",
   "metadata": {},
   "outputs": [
    {
     "data": {
      "text/plain": [
       "'love python'"
      ]
     },
     "execution_count": 99,
     "metadata": {},
     "output_type": "execute_result"
    }
   ],
   "source": [
    "sum('love ', 'python')"
   ]
  },
  {
   "cell_type": "code",
   "execution_count": 103,
   "id": "e3c72fb2-925c-4eb3-8a56-fc419c6954ef",
   "metadata": {},
   "outputs": [
    {
     "name": "stdout",
     "output_type": "stream",
     "text": [
      "Modnay : drink coffee - eat banana - enjoy tiramisu\n",
      "Tuesday : drink tea - eat orange - enjoy ice cream\n",
      "Wednesday : drink beer - eat peach - enjoy pie\n"
     ]
    }
   ],
   "source": [
    "days = ['Modnay', 'Tuesday', 'Wednesday']\n",
    "fruits = ['banana', 'orange', 'peach']\n",
    "drinks = ['coffee', 'tea', 'beer']\n",
    "desserts = ['tiramisu', 'ice cream', 'pie', 'pudding']\n",
    "\n",
    "for day, fruit, drink, dessert in zip(days, fruits, drinks, desserts):\n",
    "    print(day,\": drink\", drink, \"- eat\", fruit, \"- enjoy\", dessert)"
   ]
  },
  {
   "cell_type": "code",
   "execution_count": 105,
   "id": "c53ca60e-0266-4923-9c5c-b8957e6055d8",
   "metadata": {},
   "outputs": [
    {
     "data": {
      "text/plain": [
       "[('Moday', 'Lundi'), ('Tuesday', 'Mardi'), ('Wednesday', 'Mercredi')]"
      ]
     },
     "execution_count": 105,
     "metadata": {},
     "output_type": "execute_result"
    }
   ],
   "source": [
    "english = 'Moday', 'Tuesday', 'Wednesday'\n",
    "french = 'Lundi', 'Mardi', 'Mercredi'\n",
    "\n",
    "list (zip(english, french))"
   ]
  },
  {
   "cell_type": "code",
   "execution_count": 107,
   "id": "d88176d0-b9bb-4315-850d-9b6faae3e208",
   "metadata": {},
   "outputs": [
    {
     "data": {
      "text/plain": [
       "{'Moday': 'Lundi', 'Tuesday': 'Mardi', 'Wednesday': 'Mercredi'}"
      ]
     },
     "execution_count": 107,
     "metadata": {},
     "output_type": "execute_result"
    }
   ],
   "source": [
    "dict(zip(english, french))"
   ]
  },
  {
   "cell_type": "code",
   "execution_count": 135,
   "id": "3dcf05b5-5086-4a8f-93de-d79e74cf2125",
   "metadata": {},
   "outputs": [],
   "source": [
    "def menu(wine, entree, dessert):\n",
    "    return {'wine' : wine, 'entree' : entree, 'dessert' : dessert}"
   ]
  },
  {
   "cell_type": "code",
   "execution_count": 137,
   "id": "23290286-1190-47fa-8ce1-ebdc5392de15",
   "metadata": {},
   "outputs": [
    {
     "data": {
      "text/plain": [
       "{'wine': 'chardonnay', 'entree': 'chicken', 'dessert': 'cake'}"
      ]
     },
     "execution_count": 137,
     "metadata": {},
     "output_type": "execute_result"
    }
   ],
   "source": [
    "menu('chardonnay', 'chicken', 'cake')"
   ]
  },
  {
   "cell_type": "code",
   "execution_count": 139,
   "id": "cb22e62a-5ded-445a-a113-bdcf026451b3",
   "metadata": {},
   "outputs": [
    {
     "data": {
      "text/plain": [
       "{'wine': 'bordeaux', 'entree': 'beef', 'dessert': 'bagel'}"
      ]
     },
     "execution_count": 139,
     "metadata": {},
     "output_type": "execute_result"
    }
   ],
   "source": [
    "menu(entree='beef', dessert ='bagel', wine='bordeaux')"
   ]
  },
  {
   "cell_type": "code",
   "execution_count": 141,
   "id": "9a016321-f8bd-40e4-90cd-53aec30e1d77",
   "metadata": {},
   "outputs": [
    {
     "data": {
      "text/plain": [
       "{'wine': 'frontenac', 'entree': 'fish', 'dessert': 'flan'}"
      ]
     },
     "execution_count": 141,
     "metadata": {},
     "output_type": "execute_result"
    }
   ],
   "source": [
    "menu('frontenac', dessert = 'flan', entree = 'fish')"
   ]
  },
  {
   "cell_type": "code",
   "execution_count": 145,
   "id": "26f19d22-37b1-421f-9630-a0e7d3d67e68",
   "metadata": {},
   "outputs": [],
   "source": [
    "def menu(wine, entree, dessert = 'pudding'):\n",
    "    return {'wine':wine, 'entree':entree, 'dessert':dessert}"
   ]
  },
  {
   "cell_type": "code",
   "execution_count": 147,
   "id": "4fe13bb2-12d2-4563-8298-9fbf7784729f",
   "metadata": {},
   "outputs": [
    {
     "data": {
      "text/plain": [
       "{'wine': 'chardonnay', 'entree': 'chicken', 'dessert': 'pudding'}"
      ]
     },
     "execution_count": 147,
     "metadata": {},
     "output_type": "execute_result"
    }
   ],
   "source": [
    "menu('chardonnay', 'chicken')"
   ]
  },
  {
   "cell_type": "code",
   "execution_count": 149,
   "id": "640435ae-2607-4f70-b5ba-dfc8e41e96f7",
   "metadata": {},
   "outputs": [
    {
     "data": {
      "text/plain": [
       "{'wine': 'dunkelfelder', 'entree': 'duck', 'dessert': 'doughnut'}"
      ]
     },
     "execution_count": 149,
     "metadata": {},
     "output_type": "execute_result"
    }
   ],
   "source": [
    "menu('dunkelfelder', 'duck', 'doughnut')"
   ]
  },
  {
   "cell_type": "code",
   "execution_count": 155,
   "id": "4fdfd90b-ca60-49a3-b67e-537a3840c6f1",
   "metadata": {},
   "outputs": [],
   "source": [
    "def menu(price, wine='chardonnay', entree='chicken', dessert='pudding'):\n",
    "    return {'price': price, 'wine': wine, 'entree': entree, 'dessert': dessert}"
   ]
  },
  {
   "cell_type": "code",
   "execution_count": 157,
   "id": "df8fd682-21a3-483f-8550-cce26cea065d",
   "metadata": {},
   "outputs": [],
   "source": [
    "def echo(anything):\n",
    "    'echo returns its input argument'\n",
    "    return anything"
   ]
  },
  {
   "cell_type": "code",
   "execution_count": 159,
   "id": "314d8cf9-e215-413a-9437-9d53a828fea2",
   "metadata": {},
   "outputs": [
    {
     "data": {
      "text/plain": [
       "'Yahoo'"
      ]
     },
     "execution_count": 159,
     "metadata": {},
     "output_type": "execute_result"
    }
   ],
   "source": [
    "echo (\"Yahoo\")"
   ]
  },
  {
   "cell_type": "code",
   "execution_count": 161,
   "id": "abc3e7a7-3a8c-437e-9621-a5b7cb16e8d3",
   "metadata": {},
   "outputs": [],
   "source": [
    "def print_if_true(thing, check):\n",
    "    \"\"\"\n",
    "    Print the first argument if a second argument is true.\n",
    "    The operation is :\n",
    "        1. Check whether the *second* argument is true.\n",
    "        2. If it is, print the *first* argumenet.\n",
    "    \"\"\"\n",
    "    if check:\n",
    "        print(thing)"
   ]
  },
  {
   "cell_type": "code",
   "execution_count": 185,
   "id": "6dcff7a5-1623-4d0a-b588-ae257d925d86",
   "metadata": {},
   "outputs": [
    {
     "name": "stdout",
     "output_type": "stream",
     "text": [
      "성영\n"
     ]
    }
   ],
   "source": [
    "print_if_true(\"성영\", \"남자\")"
   ]
  },
  {
   "cell_type": "code",
   "execution_count": 167,
   "id": "b87e3088-e5f6-4c4a-9722-a179e0d7a755",
   "metadata": {},
   "outputs": [
    {
     "name": "stdout",
     "output_type": "stream",
     "text": [
      "Help on function echo in module __main__:\n",
      "\n",
      "echo(anything)\n",
      "    echo returns its input argument\n",
      "\n"
     ]
    }
   ],
   "source": [
    "help(echo)"
   ]
  },
  {
   "cell_type": "code",
   "execution_count": 171,
   "id": "155a8095-ba7e-4b98-aa05-81f2abc30b7c",
   "metadata": {},
   "outputs": [
    {
     "name": "stdout",
     "output_type": "stream",
     "text": [
      "echo returns its input argument\n"
     ]
    }
   ],
   "source": [
    "print(echo.__doc__)"
   ]
  },
  {
   "cell_type": "code",
   "execution_count": 27,
   "id": "4d40d5b2-0fd4-41f2-bf60-0002f151e964",
   "metadata": {},
   "outputs": [
    {
     "ename": "SyntaxError",
     "evalue": "invalid syntax (3889239008.py, line 1)",
     "output_type": "error",
     "traceback": [
      "\u001b[1;36m  Cell \u001b[1;32mIn[27], line 1\u001b[1;36m\u001b[0m\n\u001b[1;33m    pip3 install numpy\u001b[0m\n\u001b[1;37m         ^\u001b[0m\n\u001b[1;31mSyntaxError\u001b[0m\u001b[1;31m:\u001b[0m invalid syntax\n"
     ]
    }
   ],
   "source": [
    "pip3 install numpy"
   ]
  },
  {
   "cell_type": "code",
   "execution_count": 29,
   "id": "00aa47f0-1992-4fd8-9cc9-ab51081cd121",
   "metadata": {},
   "outputs": [
    {
     "name": "stdout",
     "output_type": "stream",
     "text": [
      "Requirement already satisfied: numpy in c:\\users\\sylee\\appdata\\local\\programs\\orange\\lib\\site-packages (1.24.4)Note: you may need to restart the kernel to use updated packages.\n",
      "\n"
     ]
    }
   ],
   "source": [
    "pip install numpy"
   ]
  },
  {
   "cell_type": "code",
   "execution_count": 31,
   "id": "3f955a36-82fa-492a-bdb8-df9198e12e7f",
   "metadata": {},
   "outputs": [
    {
     "ename": "ModuleNotFoundError",
     "evalue": "No module named 'mod1'",
     "output_type": "error",
     "traceback": [
      "\u001b[1;31m---------------------------------------------------------------------------\u001b[0m",
      "\u001b[1;31mModuleNotFoundError\u001b[0m                       Traceback (most recent call last)",
      "Cell \u001b[1;32mIn[31], line 1\u001b[0m\n\u001b[1;32m----> 1\u001b[0m \u001b[38;5;28;01mimport\u001b[39;00m \u001b[38;5;21;01mmod1\u001b[39;00m\n",
      "\u001b[1;31mModuleNotFoundError\u001b[0m: No module named 'mod1'"
     ]
    }
   ],
   "source": [
    "import mod1"
   ]
  },
  {
   "cell_type": "code",
   "execution_count": 33,
   "id": "7651642a-62af-4ee7-b6f8-2f28c19fe58d",
   "metadata": {},
   "outputs": [],
   "source": [
    "import mode1"
   ]
  },
  {
   "cell_type": "code",
   "execution_count": 35,
   "id": "3214d99f-faab-40f3-9751-f5a4dd255091",
   "metadata": {},
   "outputs": [
    {
     "data": {
      "text/plain": [
       "5"
      ]
     },
     "execution_count": 35,
     "metadata": {},
     "output_type": "execute_result"
    }
   ],
   "source": [
    "sum(2,3)"
   ]
  },
  {
   "cell_type": "code",
   "execution_count": null,
   "id": "c51dd3ff-ca66-4a19-b963-4b4e5560db09",
   "metadata": {},
   "outputs": [],
   "source": []
  }
 ],
 "metadata": {
  "kernelspec": {
   "display_name": "Python [conda env:Orange]",
   "language": "python",
   "name": "conda-env-Orange-py"
  },
  "language_info": {
   "codemirror_mode": {
    "name": "ipython",
    "version": 3
   },
   "file_extension": ".py",
   "mimetype": "text/x-python",
   "name": "python",
   "nbconvert_exporter": "python",
   "pygments_lexer": "ipython3",
   "version": "3.11.8"
  }
 },
 "nbformat": 4,
 "nbformat_minor": 5
}
