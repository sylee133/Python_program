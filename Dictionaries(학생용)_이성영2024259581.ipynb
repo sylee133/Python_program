{
  "nbformat": 4,
  "nbformat_minor": 0,
  "metadata": {
    "kernelspec": {
      "display_name": "Python 3",
      "language": "python",
      "name": "python3"
    },
    "language_info": {
      "codemirror_mode": {
        "name": "ipython",
        "version": 3
      },
      "file_extension": ".py",
      "mimetype": "text/x-python",
      "name": "python",
      "nbconvert_exporter": "python",
      "pygments_lexer": "ipython3",
      "version": "3.6.8"
    },
    "colab": {
      "provenance": [],
      "include_colab_link": true
    }
  },
  "cells": [
    {
      "cell_type": "markdown",
      "metadata": {
        "id": "view-in-github",
        "colab_type": "text"
      },
      "source": [
        "<a href=\"https://colab.research.google.com/github/sylee133/Python_program/blob/main/Dictionaries(%ED%95%99%EC%83%9D%EC%9A%A9)_%EC%9D%B4%EC%84%B1%EC%98%812024259581.ipynb\" target=\"_parent\"><img src=\"https://colab.research.google.com/assets/colab-badge.svg\" alt=\"Open In Colab\"/></a>"
      ]
    },
    {
      "cell_type": "markdown",
      "metadata": {
        "id": "GzHkCWac6RGa"
      },
      "source": [
        "<h1>Dictionaries in Python</h1>"
      ]
    },
    {
      "cell_type": "markdown",
      "metadata": {
        "id": "Gj7VGQtY6RGb"
      },
      "source": [
        "<p><strong>Welcome!</strong> This notebook will teach you about the dictionaries in the Python Programming Language. By the end of this lab, you'll know the basics dictionary operations in Python, including what it is, and the operations on it.</p>"
      ]
    },
    {
      "cell_type": "markdown",
      "metadata": {
        "id": "OeNuSfj76RGc"
      },
      "source": [
        "<h2 id=\"Dic\">Dictionaries</h2>"
      ]
    },
    {
      "cell_type": "markdown",
      "metadata": {
        "id": "gn6o3z_p6RGd"
      },
      "source": [
        "<h3 id=\"content\">What are Dictionaries?</h3>"
      ]
    },
    {
      "cell_type": "markdown",
      "metadata": {
        "id": "cx8gJ4Dd6RGd"
      },
      "source": [
        "A dictionary consists of keys and values. It is helpful to compare a dictionary to a list. Instead of the numerical indexes such as a list, dictionaries have keys. These keys are the keys that are used to access values within a dictionary."
      ]
    },
    {
      "cell_type": "markdown",
      "metadata": {
        "id": "qAx3N3gA6RGe"
      },
      "source": [
        "<img src=\"https://s3-api.us-geo.objectstorage.softlayer.net/cf-courses-data/CognitiveClass/PY0101EN/Chapter%202/Images/DictsList.png\" width=\"650\" />"
      ]
    },
    {
      "cell_type": "markdown",
      "metadata": {
        "id": "xwEygcNr6RGf"
      },
      "source": [
        "An example of a Dictionary <code>Dict</code>:"
      ]
    },
    {
      "cell_type": "code",
      "metadata": {
        "id": "W8JVrjgl6RGf",
        "colab": {
          "base_uri": "https://localhost:8080/"
        },
        "outputId": "0a0e67c8-0ed8-4c58-9127-e73e6f923dfc"
      },
      "source": [
        "# Create the dictionary\n",
        "\n",
        "Dict = {\"key1\": 1, \"key2\": \"2\", \"key3\": [3, 3, 3], \"key4\": (4, 4, 4), 'key5': 5, (0, 1): 6, 1.2: 5}\n",
        "#{} :으로 구별\n",
        "# key1 (키값) --> 1 (정수)\n",
        "# key2 (키값) --> \"2\" (문자열)\n",
        "# key4 (키값) --> (4,4,4) tuple\n",
        "# (0,1) tuple 키값 --> 5 (정수)\n",
        "Dict"
      ],
      "execution_count": null,
      "outputs": [
        {
          "output_type": "execute_result",
          "data": {
            "text/plain": [
              "{'key1': 1,\n",
              " 'key2': '2',\n",
              " 'key3': [3, 3, 3],\n",
              " 'key4': (4, 4, 4),\n",
              " 'key5': 5,\n",
              " (0, 1): 6,\n",
              " 1.2: 5}"
            ]
          },
          "metadata": {},
          "execution_count": 1
        }
      ]
    },
    {
      "cell_type": "markdown",
      "metadata": {
        "id": "unJ851Na6RGj"
      },
      "source": [
        "The keys can be strings:"
      ]
    },
    {
      "cell_type": "code",
      "metadata": {
        "id": "CDaQ-3GM6RGk",
        "colab": {
          "base_uri": "https://localhost:8080/"
        },
        "outputId": "d4c4bb18-6690-4e75-dd3e-8cdd4ab44e1c"
      },
      "source": [
        "# Access to the value by the key\n",
        "#Dict[1.2]\n",
        "#Dict['key5']\n",
        "#Dict[(0,1)]\n",
        "Dict[\"key3\"]"
      ],
      "execution_count": null,
      "outputs": [
        {
          "output_type": "execute_result",
          "data": {
            "text/plain": [
              "[3, 3, 3]"
            ]
          },
          "metadata": {},
          "execution_count": 7
        }
      ]
    },
    {
      "cell_type": "code",
      "source": [
        "Dict"
      ],
      "metadata": {
        "colab": {
          "base_uri": "https://localhost:8080/"
        },
        "id": "rwljeh2LTpFg",
        "outputId": "78e34b3a-369e-45a8-cf48-75652a13d53b"
      },
      "execution_count": null,
      "outputs": [
        {
          "output_type": "execute_result",
          "data": {
            "text/plain": [
              "{'key1': 1,\n",
              " 'key2': '2',\n",
              " 'key3': [3, 3, 3],\n",
              " 'key4': (4, 4, 4),\n",
              " 'key5': 5,\n",
              " (0, 1): 6,\n",
              " 1.2: 5}"
            ]
          },
          "metadata": {},
          "execution_count": 8
        }
      ]
    },
    {
      "cell_type": "markdown",
      "metadata": {
        "id": "_kL6zWbJ6RGn"
      },
      "source": [
        "Keys can also be any mutable object such as a LIST:"
      ]
    },
    {
      "cell_type": "code",
      "metadata": {
        "id": "k8gWSyO56RGo",
        "colab": {
          "base_uri": "https://localhost:8080/"
        },
        "outputId": "14861c96-71e1-47da-926e-55c2477b2c33"
      },
      "source": [
        "# Access to the value by the key\n",
        "\n",
        "Dict[\"key3\"]=\"TEST\" #다른 값을 넣을 수 있니?\n",
        "Dict"
      ],
      "execution_count": null,
      "outputs": [
        {
          "output_type": "execute_result",
          "data": {
            "text/plain": [
              "{'key1': 1,\n",
              " 'key2': '2',\n",
              " 'key3': 'TEST',\n",
              " 'key4': (4, 4, 4),\n",
              " 'key5': 5,\n",
              " (0, 1): 6,\n",
              " 1.2: 5}"
            ]
          },
          "metadata": {},
          "execution_count": 9
        }
      ]
    },
    {
      "cell_type": "markdown",
      "metadata": {
        "id": "u_tguCTJ6RGr"
      },
      "source": [
        " Each key is separated from its value by a colon \"<code>:</code>\".  Commas separate the items, and the whole dictionary is enclosed in curly braces. An empty dictionary without any items is written with just two curly braces, like this  \"<code>{}</code>\"."
      ]
    },
    {
      "cell_type": "code",
      "metadata": {
        "id": "b5IWiiOd6RGr",
        "colab": {
          "base_uri": "https://localhost:8080/"
        },
        "outputId": "a9f1a0fe-bcec-4df2-93bb-0fbce2cc21b5"
      },
      "source": [
        "# Create a sample dictionary\n",
        "\n",
        "release_year_dict = {\"Thriller\": \"1982\", \"Back in Black\": \"1980\", \"The Dark Side of the Moon\": \"1973\", \"The Bodyguard\": \"1992\", \\\n",
        "                    \"Bat Out of Hell\": \"1977\", \"Their Greatest Hits (1971-1975)\": \"1976\", \\\n",
        "                    \"Saturday Night Fever\": \"1977\", \"Rumours\": \"1977\"}\n",
        "release_year_dict"
      ],
      "execution_count": null,
      "outputs": [
        {
          "output_type": "execute_result",
          "data": {
            "text/plain": [
              "{'Thriller': '1982',\n",
              " 'Back in Black': '1980',\n",
              " 'The Dark Side of the Moon': '1973',\n",
              " 'The Bodyguard': '1992',\n",
              " 'Bat Out of Hell': '1977',\n",
              " 'Their Greatest Hits (1971-1975)': '1976',\n",
              " 'Saturday Night Fever': '1977',\n",
              " 'Rumours': '1977'}"
            ]
          },
          "metadata": {},
          "execution_count": 10
        }
      ]
    },
    {
      "cell_type": "markdown",
      "metadata": {
        "id": "WR-7QzYt6RGu"
      },
      "source": [
        "In summary, like a list, a dictionary holds a sequence of elements. Each element is represented by a key and its corresponding value. Dictionaries are created with two curly braces containing keys and values separated by a colon. For every key, there can only be one single value, however,  multiple keys can hold the same value. Keys can only be strings, numbers, or tuples, but values can be any data type."
      ]
    },
    {
      "cell_type": "markdown",
      "metadata": {
        "id": "g76gUL5I6RGv"
      },
      "source": [
        "It is helpful to visualize the dictionary as a table, as in the following image. The first column represents the keys, the second column represents the values."
      ]
    },
    {
      "cell_type": "markdown",
      "metadata": {
        "id": "IOw_kB946RGv"
      },
      "source": [
        "<img src=\"https://s3-api.us-geo.objectstorage.softlayer.net/cf-courses-data/CognitiveClass/PY0101EN/Chapter%202/Images/DictsStructure.png\" width=\"650\" />"
      ]
    },
    {
      "cell_type": "markdown",
      "metadata": {
        "id": "B_vSUGgq6RGw"
      },
      "source": [
        "<h3 id=\"key\">Keys</h3>"
      ]
    },
    {
      "cell_type": "markdown",
      "metadata": {
        "id": "Y3ZvMUlm6RGx"
      },
      "source": [
        "You can retrieve the values based on the names:"
      ]
    },
    {
      "cell_type": "code",
      "metadata": {
        "id": "E4-G2A5w6RGx",
        "colab": {
          "base_uri": "https://localhost:8080/",
          "height": 35
        },
        "outputId": "31a8f741-ce30-4418-c599-7d1b0d1f0f41"
      },
      "source": [
        "# Get value by keys\n",
        "\n",
        "release_year_dict['Their Greatest Hits (1971-1975)']\n",
        "#release_year_dict['Thriller']"
      ],
      "execution_count": null,
      "outputs": [
        {
          "output_type": "execute_result",
          "data": {
            "text/plain": [
              "'1976'"
            ],
            "application/vnd.google.colaboratory.intrinsic+json": {
              "type": "string"
            }
          },
          "metadata": {},
          "execution_count": 12
        }
      ]
    },
    {
      "cell_type": "markdown",
      "metadata": {
        "id": "5Bj10hYP6RG0"
      },
      "source": [
        "This corresponds to:\n"
      ]
    },
    {
      "cell_type": "markdown",
      "metadata": {
        "id": "QmFfLZAs6RG0"
      },
      "source": [
        "<img src=\"https://s3-api.us-geo.objectstorage.softlayer.net/cf-courses-data/CognitiveClass/PY0101EN/Chapter%202/Images/DictsKeyOne.png\" width=\"500\" />"
      ]
    },
    {
      "cell_type": "markdown",
      "metadata": {
        "id": "t9M-Lir76RG1"
      },
      "source": [
        "Similarly for <b>The Bodyguard</b>"
      ]
    },
    {
      "cell_type": "code",
      "metadata": {
        "id": "YE78vmSJ6RG1",
        "colab": {
          "base_uri": "https://localhost:8080/",
          "height": 35
        },
        "outputId": "a9461d0f-04de-4853-88db-4f85c38c9694"
      },
      "source": [
        "# Get value by key\n",
        "\n",
        "release_year_dict['The Bodyguard']"
      ],
      "execution_count": null,
      "outputs": [
        {
          "output_type": "execute_result",
          "data": {
            "text/plain": [
              "'1992'"
            ],
            "application/vnd.google.colaboratory.intrinsic+json": {
              "type": "string"
            }
          },
          "metadata": {},
          "execution_count": 13
        }
      ]
    },
    {
      "cell_type": "markdown",
      "metadata": {
        "id": "MFnjH6-F6RG4"
      },
      "source": [
        "<img src=\"https://s3-api.us-geo.objectstorage.softlayer.net/cf-courses-data/CognitiveClass/PY0101EN/Chapter%202/Images/DictsKeyTwo.png\" width=\"500\" />"
      ]
    },
    {
      "cell_type": "markdown",
      "metadata": {
        "id": "vf7sSsub6RG5"
      },
      "source": [
        "Now let you retrieve the keys of the dictionary using the method <code>release_year_dict()</code>:"
      ]
    },
    {
      "cell_type": "code",
      "metadata": {
        "id": "Kd4fbrit6RG5",
        "colab": {
          "base_uri": "https://localhost:8080/"
        },
        "outputId": "f8e112f8-c554-497f-bf97-76b2a515f400"
      },
      "source": [
        "# Get all the keys in dictionaryj >> dic 내에 정의된 모든 key value를 리턴함\n",
        "\n",
        "release_year_dict.keys()"
      ],
      "execution_count": null,
      "outputs": [
        {
          "output_type": "execute_result",
          "data": {
            "text/plain": [
              "dict_keys(['Thriller', 'Back in Black', 'The Dark Side of the Moon', 'The Bodyguard', 'Bat Out of Hell', 'Their Greatest Hits (1971-1975)', 'Saturday Night Fever', 'Rumours'])"
            ]
          },
          "metadata": {},
          "execution_count": 14
        }
      ]
    },
    {
      "cell_type": "markdown",
      "metadata": {
        "id": "QxgKANeV6RG9"
      },
      "source": [
        "You can retrieve the values using the method  <code>values()</code>:"
      ]
    },
    {
      "cell_type": "code",
      "metadata": {
        "id": "ugsGIYQb6RG9",
        "colab": {
          "base_uri": "https://localhost:8080/"
        },
        "outputId": "3ecf389c-fe77-4ef1-c22a-815cfc638e79"
      },
      "source": [
        "# Get all the values in dictionary\n",
        "\n",
        "release_year_dict.values()"
      ],
      "execution_count": null,
      "outputs": [
        {
          "output_type": "execute_result",
          "data": {
            "text/plain": [
              "dict_values(['1982', '1980', '1973', '1992', '1977', '1976', '1977', '1977'])"
            ]
          },
          "metadata": {},
          "execution_count": 15
        }
      ]
    },
    {
      "cell_type": "code",
      "metadata": {
        "id": "vpHuaz5j_fOY",
        "colab": {
          "base_uri": "https://localhost:8080/"
        },
        "outputId": "a09e9144-cf1d-4048-ff68-ab1ce56f6efd"
      },
      "source": [
        "release_year_dict[\"Graduation\"] = '2007'\n",
        "release_year_dict"
      ],
      "execution_count": null,
      "outputs": [
        {
          "output_type": "execute_result",
          "data": {
            "text/plain": [
              "{'Thriller': '1982',\n",
              " 'Back in Black': '1980',\n",
              " 'The Dark Side of the Moon': '1973',\n",
              " 'The Bodyguard': '1992',\n",
              " 'Bat Out of Hell': '1977',\n",
              " 'Their Greatest Hits (1971-1975)': '1976',\n",
              " 'Saturday Night Fever': '1977',\n",
              " 'Rumours': '1977',\n",
              " 'Graduation': '2007'}"
            ]
          },
          "metadata": {},
          "execution_count": 17
        }
      ]
    },
    {
      "cell_type": "markdown",
      "metadata": {
        "id": "83Ke_KvF6RG_"
      },
      "source": [
        "We can add an entry:"
      ]
    },
    {
      "cell_type": "code",
      "metadata": {
        "id": "JEoysNOK6RHA",
        "colab": {
          "base_uri": "https://localhost:8080/"
        },
        "outputId": "685212ef-1e36-4db0-d13e-c0cb5ea70e11"
      },
      "source": [
        "# Append value with key into dictionary\n",
        "\n",
        "release_year_dict['Graduation'] = '2007'\n",
        "release_year_dict"
      ],
      "execution_count": null,
      "outputs": [
        {
          "output_type": "execute_result",
          "data": {
            "text/plain": [
              "{'Thriller': '1982',\n",
              " 'Back in Black': '1980',\n",
              " 'The Dark Side of the Moon': '1973',\n",
              " 'The Bodyguard': '1992',\n",
              " 'Bat Out of Hell': '1977',\n",
              " 'Their Greatest Hits (1971-1975)': '1976',\n",
              " 'Saturday Night Fever': '1977',\n",
              " 'Rumours': '1977',\n",
              " 'Graduation': '2007'}"
            ]
          },
          "metadata": {},
          "execution_count": 18
        }
      ]
    },
    {
      "cell_type": "markdown",
      "metadata": {
        "id": "FDxCxPcP6RHC"
      },
      "source": [
        "We can delete an entry:   "
      ]
    },
    {
      "cell_type": "code",
      "metadata": {
        "id": "FjxCqlS66RHD",
        "colab": {
          "base_uri": "https://localhost:8080/"
        },
        "outputId": "05e8b429-5e4c-4661-fb9a-dc041ace957e"
      },
      "source": [
        "# Delete entries by key\n",
        "\n",
        "del(release_year_dict['Thriller'])\n",
        "del(release_year_dict['Graduation'])\n",
        "release_year_dict"
      ],
      "execution_count": null,
      "outputs": [
        {
          "output_type": "execute_result",
          "data": {
            "text/plain": [
              "{'Back in Black': '1980',\n",
              " 'The Dark Side of the Moon': '1973',\n",
              " 'The Bodyguard': '1992',\n",
              " 'Bat Out of Hell': '1977',\n",
              " 'Their Greatest Hits (1971-1975)': '1976',\n",
              " 'Saturday Night Fever': '1977',\n",
              " 'Rumours': '1977'}"
            ]
          },
          "metadata": {},
          "execution_count": 19
        }
      ]
    },
    {
      "cell_type": "markdown",
      "metadata": {
        "id": "LUKuGXkX6RHH"
      },
      "source": [
        " We can verify if an element is in the dictionary:"
      ]
    },
    {
      "cell_type": "code",
      "metadata": {
        "id": "wzMf1tuvDUZR",
        "colab": {
          "base_uri": "https://localhost:8080/"
        },
        "outputId": "9dc72747-05d6-4e45-e48e-f090e3d81490"
      },
      "source": [
        "'Thriller' in release_year_dict # 'in'을 통해서 특정 dic 내에 해당 값이 있는지 F/T로 리턴"
      ],
      "execution_count": null,
      "outputs": [
        {
          "output_type": "execute_result",
          "data": {
            "text/plain": [
              "False"
            ]
          },
          "metadata": {},
          "execution_count": 20
        }
      ]
    },
    {
      "cell_type": "code",
      "source": [
        "'The Bodyguard' in release_year_dict"
      ],
      "metadata": {
        "colab": {
          "base_uri": "https://localhost:8080/"
        },
        "id": "VCuP-DDB0TWX",
        "outputId": "b6819105-7e16-46e8-fc25-d01870e3225b"
      },
      "execution_count": null,
      "outputs": [
        {
          "output_type": "execute_result",
          "data": {
            "text/plain": [
              "True"
            ]
          },
          "metadata": {},
          "execution_count": 21
        }
      ]
    },
    {
      "cell_type": "code",
      "metadata": {
        "id": "ArLBiQVHDXbq"
      },
      "source": [
        "del(release_year_dict['Rumours'])"
      ],
      "execution_count": null,
      "outputs": []
    },
    {
      "cell_type": "code",
      "metadata": {
        "id": "SRcf8WZ9DzG5",
        "colab": {
          "base_uri": "https://localhost:8080/"
        },
        "outputId": "cf6560fc-34c7-452d-b4d2-41bf82342c10"
      },
      "source": [
        "'Rumours' in release_year_dict"
      ],
      "execution_count": null,
      "outputs": [
        {
          "output_type": "execute_result",
          "data": {
            "text/plain": [
              "False"
            ]
          },
          "metadata": {},
          "execution_count": 18
        }
      ]
    },
    {
      "cell_type": "code",
      "source": [
        "'The Bodyguard' in release_year_dict"
      ],
      "metadata": {
        "colab": {
          "base_uri": "https://localhost:8080/"
        },
        "id": "b916NselvpG8",
        "outputId": "ceedf36f-1f21-48a2-c2f8-002504ce514e"
      },
      "execution_count": null,
      "outputs": [
        {
          "output_type": "execute_result",
          "data": {
            "text/plain": [
              "True"
            ]
          },
          "metadata": {},
          "execution_count": 19
        }
      ]
    },
    {
      "cell_type": "markdown",
      "metadata": {
        "id": "RzYM4ZiU6RHL"
      },
      "source": [
        "<h2 id=\"quiz\">Quiz on Dictionaries</h2>"
      ]
    },
    {
      "cell_type": "markdown",
      "metadata": {
        "id": "xtz9QnSv6RHL"
      },
      "source": [
        "<b>You will need this dictionary for the next two questions:</b>"
      ]
    },
    {
      "cell_type": "code",
      "metadata": {
        "id": "KzchPkGo6RHM",
        "outputId": "15c67573-1f6b-4279-ca6c-55094c887b00",
        "colab": {
          "base_uri": "https://localhost:8080/"
        }
      },
      "source": [
        "# Question sample dictionary\n",
        "\n",
        "soundtrack_dic = {\"The Bodyguard\":\"1992\", \"Saturday Night Fever\":\"1977\"}\n",
        "soundtrack_dic"
      ],
      "execution_count": 22,
      "outputs": [
        {
          "output_type": "execute_result",
          "data": {
            "text/plain": [
              "{'The Bodyguard': '1992', 'Saturday Night Fever': '1977'}"
            ]
          },
          "metadata": {},
          "execution_count": 22
        }
      ]
    },
    {
      "cell_type": "markdown",
      "metadata": {
        "id": "LCWMQ6E16RHP"
      },
      "source": [
        "a) In the dictionary <code>soundtrack_dict</code> what are the keys ?"
      ]
    },
    {
      "cell_type": "code",
      "metadata": {
        "id": "7KqlVIvg6RHP",
        "outputId": "c51a48e7-46a6-4eb9-e9cf-4de1fa1f2bea",
        "colab": {
          "base_uri": "https://localhost:8080/"
        }
      },
      "source": [
        "# Write your code below and press Shift+Enter to execute\n",
        "soundtrack_dic.keys() # 성영 : keys() 함수로 key 값을 리턴"
      ],
      "execution_count": 25,
      "outputs": [
        {
          "output_type": "execute_result",
          "data": {
            "text/plain": [
              "dict_keys(['The Bodyguard', 'Saturday Night Fever'])"
            ]
          },
          "metadata": {},
          "execution_count": 25
        }
      ]
    },
    {
      "cell_type": "markdown",
      "metadata": {
        "id": "NF3HezrY6RHS"
      },
      "source": [
        "Double-click __here__ for the solution.\n",
        "\n",
        "<!-- Your answer is below:\n",
        "soundtrack_dic.keys() # The Keys \"The Bodyguard\" and \"Saturday Night Fever\"\n",
        "-->"
      ]
    },
    {
      "cell_type": "markdown",
      "metadata": {
        "id": "maFtCOSM6RHS"
      },
      "source": [
        "b) In the dictionary <code>soundtrack_dict</code> what are the values ?"
      ]
    },
    {
      "cell_type": "code",
      "metadata": {
        "id": "Nu1mO5716RHT",
        "outputId": "e512b705-b656-4ec5-9595-7a23b27f5751",
        "colab": {
          "base_uri": "https://localhost:8080/"
        }
      },
      "source": [
        "# Write your code below and press Shift+Enter to execute\n",
        "soundtrack_dic.values() # 성영 : values() 함수로 value 값을 리턴"
      ],
      "execution_count": 26,
      "outputs": [
        {
          "output_type": "execute_result",
          "data": {
            "text/plain": [
              "dict_values(['1992', '1977'])"
            ]
          },
          "metadata": {},
          "execution_count": 26
        }
      ]
    },
    {
      "cell_type": "markdown",
      "metadata": {
        "id": "EDAC5YoP6RHV"
      },
      "source": [
        "Double-click __here__ for the solution.\n",
        "\n",
        "<!-- Your answer is below:\n",
        "soundtrack_dic.values() # The values are \"1992\" and \"1977\"\n",
        "-->"
      ]
    },
    {
      "cell_type": "markdown",
      "metadata": {
        "id": "CoLnLqw96RHV"
      },
      "source": [
        "<hr>"
      ]
    },
    {
      "cell_type": "markdown",
      "metadata": {
        "id": "ALktjwXY6RHW"
      },
      "source": [
        "<b>You will need this dictionary for the following questions:</b>"
      ]
    },
    {
      "cell_type": "markdown",
      "metadata": {
        "id": "5zE0yAqR6RHW"
      },
      "source": [
        "The Albums <b>Back in Black</b>, <b>The Bodyguard</b> and <b>Thriller</b> have the following music recording sales in millions 50, 50 and 65 respectively:"
      ]
    },
    {
      "cell_type": "markdown",
      "metadata": {
        "id": "5nWxYu8e6RHX"
      },
      "source": [
        "a) Create a dictionary <code>album_sales_dict</code> where the keys are the album name and the sales in millions are the values."
      ]
    },
    {
      "cell_type": "code",
      "metadata": {
        "id": "M2OZ0Enk6RHX",
        "colab": {
          "base_uri": "https://localhost:8080/"
        },
        "outputId": "50e615d0-ae33-43c3-f4f0-d909471b27fe"
      },
      "source": [
        "# Write your code below and press Shift+Enter to execute\n",
        "album_sales_dict = {\"The Bodyguard\":50, \"Back in Black\":50, \"Thriller\":65} # 성영 : {} 사이에 key값 : 값 그리고 쉼표(,)로 구분\n",
        "album_sales_dict"
      ],
      "execution_count": 27,
      "outputs": [
        {
          "output_type": "execute_result",
          "data": {
            "text/plain": [
              "{'The Bodyguard': 50, 'Back in Black': 50, 'Thriller': 65}"
            ]
          },
          "metadata": {},
          "execution_count": 27
        }
      ]
    },
    {
      "cell_type": "markdown",
      "metadata": {
        "id": "kl4QRou66RHa"
      },
      "source": [
        "Double-click __here__ for the solution.\n",
        "\n",
        "<!-- Your answer is below:\n",
        "album_sales_dict = {\"The Bodyguard\":50, \"Back in Black\":50, \"Thriller\":65}\n",
        "-->"
      ]
    },
    {
      "cell_type": "markdown",
      "metadata": {
        "id": "dRM8r4is6RHa"
      },
      "source": [
        "b) Use the dictionary to find the total sales of <b>Thriller</b>:"
      ]
    },
    {
      "cell_type": "code",
      "metadata": {
        "id": "ttTaU0n46RHb",
        "colab": {
          "base_uri": "https://localhost:8080/"
        },
        "outputId": "ab8e248e-2143-434e-bc4d-54bf26ad499b"
      },
      "source": [
        "# Write your code below and press Shift+Enter to execute\n",
        "album_sales_dict[\"Thriller\"] # 성영 : [] 사이에 확인할 key값을 넣으면, 해당 value를 리턴"
      ],
      "execution_count": 29,
      "outputs": [
        {
          "output_type": "execute_result",
          "data": {
            "text/plain": [
              "65"
            ]
          },
          "metadata": {},
          "execution_count": 29
        }
      ]
    },
    {
      "cell_type": "markdown",
      "metadata": {
        "id": "DNca00Cs6RHe"
      },
      "source": [
        "Double-click __here__ for the solution.\n",
        "\n",
        "<!-- Your answer is below:\n",
        "album_sales_dict[\"Thriller\"]\n",
        "-->"
      ]
    },
    {
      "cell_type": "markdown",
      "metadata": {
        "id": "Zu7n-OVY6RHe"
      },
      "source": [
        "c) Find the names of the albums from the dictionary using the method <code>keys</code>:"
      ]
    },
    {
      "cell_type": "code",
      "metadata": {
        "id": "sT0kk4xM6RHe",
        "colab": {
          "base_uri": "https://localhost:8080/"
        },
        "outputId": "4e54bc86-ac1e-4dbf-9a96-f11aa205a3a3"
      },
      "source": [
        "# Write your code below and press Shift+Enter to execute\n",
        "album_sales_dict.keys() # 성영 : key값에 앨범 이름이므로, keys() 함수 이용"
      ],
      "execution_count": 31,
      "outputs": [
        {
          "output_type": "execute_result",
          "data": {
            "text/plain": [
              "dict_keys(['The Bodyguard', 'Back in Black', 'Thriller'])"
            ]
          },
          "metadata": {},
          "execution_count": 31
        }
      ]
    },
    {
      "cell_type": "markdown",
      "metadata": {
        "id": "9EMueaCB6RHh"
      },
      "source": [
        "Double-click __here__ for the solution.\n",
        "\n",
        "<!-- Your answer is below:\n",
        "album_sales_dict.keys()\n",
        "-->"
      ]
    },
    {
      "cell_type": "markdown",
      "metadata": {
        "id": "ilWlLm636RHh"
      },
      "source": [
        "d) Find the names of the recording sales from the dictionary using the method <code>values</code>:"
      ]
    },
    {
      "cell_type": "code",
      "metadata": {
        "id": "MXLMCgLe6RHi",
        "colab": {
          "base_uri": "https://localhost:8080/"
        },
        "outputId": "82595304-c437-434d-fdb2-07a8c86c9581"
      },
      "source": [
        "# Write your code below and press Shift+Enter to execute\n",
        "album_sales_dict.values() # 성영 : values() 함수 이용"
      ],
      "execution_count": 33,
      "outputs": [
        {
          "output_type": "execute_result",
          "data": {
            "text/plain": [
              "dict_values([50, 50, 65])"
            ]
          },
          "metadata": {},
          "execution_count": 33
        }
      ]
    },
    {
      "cell_type": "markdown",
      "metadata": {
        "id": "FJiFdfRX6RHk"
      },
      "source": [
        "Double-click __here__ for the solution.\n",
        "\n",
        "<!-- Your answer is below:\n",
        "album_sales_dict.values()\n",
        "-->"
      ]
    },
    {
      "cell_type": "markdown",
      "metadata": {
        "id": "7zLWiQUm6RHk"
      },
      "source": [
        "<hr>\n",
        "<h2>The last exercise!</h2>\n",
        "<p>Congratulations, you have completed your first lesson and hands-on lab in Python. However, there is one more thing you need to do. The Data Science community encourages sharing work. The best way to share and showcase your work is to share it on GitHub. By sharing your notebook on GitHub you are not only building your reputation with fellow data scientists, but you can also show it off when applying for a job. Even though this was your first piece of work, it is never too early to start building good habits. Please submit all your exercises to Github & let the traces in our LMS, so for me to access your work."
      ]
    },
    {
      "cell_type": "markdown",
      "metadata": {
        "id": "oOnq2wZa6RHm"
      },
      "source": [
        "<hr>"
      ]
    },
    {
      "cell_type": "markdown",
      "metadata": {
        "id": "n8faMU4U6RHm"
      },
      "source": [
        "<p>Copyright &copy; 2023 RYU HOKYOUNG based on 2018 IBM Developer Skills Network. This notebook and its source code are released under the terms of the <a href=\"https://cognitiveclass.ai/mit-license/\">MIT License</a>.</p>"
      ]
    }
  ]
}