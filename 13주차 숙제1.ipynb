{
 "cells": [
  {
   "cell_type": "code",
   "execution_count": 5,
   "id": "initial_id",
   "metadata": {
    "ExecuteTime": {
     "end_time": "2025-06-03T06:49:09.638985Z",
     "start_time": "2025-06-03T06:49:09.628372Z"
    },
    "collapsed": true,
    "jupyter": {
     "outputs_hidden": true
    }
   },
   "outputs": [
    {
     "name": "stdout",
     "output_type": "stream",
     "text": [
      "menu\n"
     ]
    }
   ],
   "source": [
    "import xml.etree.ElementTree as et\n",
    "tree = et.ElementTree(file='menu.xml')\n",
    "root = tree.getroot()\n",
    "\n",
    "print(root.tag)"
   ]
  },
  {
   "cell_type": "code",
   "execution_count": 11,
   "id": "69b9f0b30600277e",
   "metadata": {
    "ExecuteTime": {
     "end_time": "2025-06-03T06:52:32.000869Z",
     "start_time": "2025-06-03T06:52:31.996198Z"
    }
   },
   "outputs": [
    {
     "name": "stdout",
     "output_type": "stream",
     "text": [
      "menu\n"
     ]
    }
   ],
   "source": [
    "print(root.tag)"
   ]
  },
  {
   "cell_type": "code",
   "execution_count": 7,
   "id": "92c8696c44e6f740",
   "metadata": {
    "ExecuteTime": {
     "end_time": "2025-06-03T06:49:24.490873Z",
     "start_time": "2025-06-03T06:49:24.486335Z"
    }
   },
   "outputs": [
    {
     "data": {
      "text/plain": [
       "xml.etree.ElementTree.Element"
      ]
     },
     "execution_count": 7,
     "metadata": {},
     "output_type": "execute_result"
    }
   ],
   "source": [
    "type(root)"
   ]
  },
  {
   "cell_type": "code",
   "execution_count": 8,
   "id": "8694dddec74e4c74",
   "metadata": {
    "ExecuteTime": {
     "end_time": "2025-06-03T06:51:21.260436Z",
     "start_time": "2025-06-03T06:51:21.255529Z"
    }
   },
   "outputs": [
    {
     "name": "stdout",
     "output_type": "stream",
     "text": [
      "tag: breakfast attribute: {'hours': '7-11'}\n",
      "\ttag: item attribute: {'price': '$6.00'}\n",
      "\ttag: item attribute: {'price': '$4.00'}\n",
      "tag: lunch attribute: {'hours': '11-3'}\n",
      "\ttag: item attribute: {'price': '$5.00'}\n",
      "tag: dinner attribute: {'hours': '3-10'}\n",
      "\ttag: item attribute: {'price': '8.00'}\n"
     ]
    }
   ],
   "source": [
    "for child in root:\n",
    "    print('tag:', child.tag, 'attribute:', child.attrib)\n",
    "    for grandchild in child:\n",
    "        print('\\ttag:', grandchild.tag, 'attribute:', grandchild.attrib)\n"
   ]
  },
  {
   "cell_type": "code",
   "execution_count": 12,
   "id": "37aef8a9c48128ab",
   "metadata": {
    "ExecuteTime": {
     "end_time": "2025-06-03T06:52:52.903734Z",
     "start_time": "2025-06-03T06:52:52.898399Z"
    }
   },
   "outputs": [
    {
     "data": {
      "text/plain": [
       "3"
      ]
     },
     "execution_count": 12,
     "metadata": {},
     "output_type": "execute_result"
    }
   ],
   "source": [
    "len(root)"
   ]
  },
  {
   "cell_type": "code",
   "execution_count": 13,
   "id": "7b3bf368a4d29db3",
   "metadata": {
    "ExecuteTime": {
     "end_time": "2025-06-03T06:53:05.549954Z",
     "start_time": "2025-06-03T06:53:05.545149Z"
    }
   },
   "outputs": [
    {
     "data": {
      "text/plain": [
       "2"
      ]
     },
     "execution_count": 13,
     "metadata": {},
     "output_type": "execute_result"
    }
   ],
   "source": [
    "len(root[1])"
   ]
  },
  {
   "cell_type": "code",
   "execution_count": 15,
   "id": "8345dcc3266e57",
   "metadata": {
    "ExecuteTime": {
     "end_time": "2025-06-03T06:54:56.866455Z",
     "start_time": "2025-06-03T06:54:56.859321Z"
    }
   },
   "outputs": [
    {
     "name": "stdout",
     "output_type": "stream",
     "text": [
      "<Element 'lunch' at 0x0000027CF4A47BA0>\n",
      "11-3\n",
      "['hours']\n",
      "[('hours', '11-3')]\n"
     ]
    }
   ],
   "source": [
    "print(root[1])\n",
    "print(root[1].get(\"hours\"))\n",
    "print(root[1].keys())\n",
    "print(root[1].items())"
   ]
  },
  {
   "cell_type": "code",
   "execution_count": 16,
   "id": "44f7090a50e3a6a5",
   "metadata": {
    "ExecuteTime": {
     "end_time": "2025-06-03T06:55:54.170482Z",
     "start_time": "2025-06-03T06:55:54.159599Z"
    }
   },
   "outputs": [
    {
     "name": "stdout",
     "output_type": "stream",
     "text": [
      "<Element 'lunch' at 0x0000027CF4A47BA0>\n",
      "11-3\n",
      "['hours']\n",
      "[('hours', '11-3')]\n"
     ]
    }
   ],
   "source": [
    "lunch = root.find(\"lunch\")\n",
    "print(lunch)\n",
    "print(lunch.get(\"hours\"))\n",
    "print(lunch.keys())\n",
    "print(lunch.items())"
   ]
  },
  {
   "cell_type": "code",
   "execution_count": 19,
   "id": "822cf7bd039c450b",
   "metadata": {
    "ExecuteTime": {
     "end_time": "2025-06-03T06:59:26.875499Z",
     "start_time": "2025-06-03T06:59:26.862441Z"
    }
   },
   "outputs": [
    {
     "name": "stdout",
     "output_type": "stream",
     "text": [
      "[<Element 'item' at 0x0000027CF4A47B00>, <Element 'item' at 0x0000027CF4A47B50>]\n",
      "$6.00\n",
      "breakfast burritos\n",
      "$4.00\n",
      "pancakes\n"
     ]
    }
   ],
   "source": [
    "print(root[0].findall('item'))\n",
    "\n",
    "for item in root[0].findall('item'):\n",
    "    print(item.get('price'))\n",
    "    print(item.text)"
   ]
  },
  {
   "cell_type": "code",
   "execution_count": 20,
   "id": "53e390cd3683b968",
   "metadata": {
    "ExecuteTime": {
     "end_time": "2025-06-03T07:02:36.267884Z",
     "start_time": "2025-06-03T07:02:36.239738Z"
    }
   },
   "outputs": [
    {
     "data": {
      "text/plain": [
       "{'name': '홍길동', 'birth': '0525', 'age': 30}"
      ]
     },
     "execution_count": 20,
     "metadata": {},
     "output_type": "execute_result"
    }
   ],
   "source": [
    "import json\n",
    "j1 = {\"name\": \"홍길동\", \"birth\" : \"0525\", \"age\": 30}\n",
    "j1"
   ]
  },
  {
   "cell_type": "code",
   "execution_count": 21,
   "id": "4914aedcfa1dddd9",
   "metadata": {
    "ExecuteTime": {
     "end_time": "2025-06-03T07:02:43.745368Z",
     "start_time": "2025-06-03T07:02:43.737923Z"
    }
   },
   "outputs": [
    {
     "data": {
      "text/plain": [
       "'{\"name\": \"\\\\ud64d\\\\uae38\\\\ub3d9\", \"birth\": \"0525\", \"age\": 30}'"
      ]
     },
     "execution_count": 21,
     "metadata": {},
     "output_type": "execute_result"
    }
   ],
   "source": [
    "json.dumps(j1)"
   ]
  },
  {
   "cell_type": "code",
   "execution_count": 22,
   "id": "713a9d9a9eaf3ab7",
   "metadata": {
    "ExecuteTime": {
     "end_time": "2025-06-03T07:03:32.707415Z",
     "start_time": "2025-06-03T07:03:32.700776Z"
    }
   },
   "outputs": [
    {
     "name": "stdout",
     "output_type": "stream",
     "text": [
      "{\n",
      "  \"name\": \"\\ud64d\\uae38\\ub3d9\",\n",
      "  \"birth\": \"0525\",\n",
      "  \"age\": 30\n",
      "}\n"
     ]
    }
   ],
   "source": [
    "print(json.dumps(j1, indent=2))"
   ]
  },
  {
   "cell_type": "code",
   "execution_count": 23,
   "id": "171133413d3474d4",
   "metadata": {
    "ExecuteTime": {
     "end_time": "2025-06-03T07:06:13.355510Z",
     "start_time": "2025-06-03T07:06:13.344959Z"
    }
   },
   "outputs": [
    {
     "data": {
      "text/plain": [
       "'[1, 2, 3]'"
      ]
     },
     "execution_count": 23,
     "metadata": {},
     "output_type": "execute_result"
    }
   ],
   "source": [
    "json.dumps([1, 2, 3]) # 성영 list"
   ]
  },
  {
   "cell_type": "code",
   "execution_count": 26,
   "id": "284e8b2ff9e7da63",
   "metadata": {
    "ExecuteTime": {
     "end_time": "2025-06-03T07:06:59.288998Z",
     "start_time": "2025-06-03T07:06:59.279569Z"
    }
   },
   "outputs": [
    {
     "data": {
      "text/plain": [
       "'[4, 5, 6]'"
      ]
     },
     "execution_count": 26,
     "metadata": {},
     "output_type": "execute_result"
    }
   ],
   "source": [
    "json.dumps((4,5,6)) # 성영 tuple"
   ]
  },
  {
   "cell_type": "code",
   "execution_count": 28,
   "id": "c002d66f268330",
   "metadata": {
    "ExecuteTime": {
     "end_time": "2025-06-03T07:08:31.659546Z",
     "start_time": "2025-06-03T07:08:31.651477Z"
    }
   },
   "outputs": [
    {
     "data": {
      "text/plain": [
       "{'name': '홍길동', 'birth': '0525', 'age': 30}"
      ]
     },
     "execution_count": 28,
     "metadata": {},
     "output_type": "execute_result"
    }
   ],
   "source": [
    "j1 = {\"name\": \"홍길동\", \"birth\" : \"0525\", \"age\": 30}\n",
    "d1 = json.dumps(j1) #성영 json string can be converted into Python Object\n",
    "json.loads(d1)"
   ]
  },
  {
   "cell_type": "code",
   "execution_count": null,
   "id": "7d5386ec0d45055b",
   "metadata": {},
   "outputs": [],
   "source": [
    "with open('./myinfo.json', mode='w', encoding='utf=8') as f:\n",
    "    data = json.load(f)\n",
    "    print(type(data))"
   ]
  },
  {
   "cell_type": "code",
   "execution_count": 46,
   "id": "76d0d5e802338685",
   "metadata": {
    "ExecuteTime": {
     "end_time": "2025-06-03T07:32:31.980063Z",
     "start_time": "2025-06-03T07:32:30.916208Z"
    }
   },
   "outputs": [
    {
     "name": "stdout",
     "output_type": "stream",
     "text": [
      "b'<html>\\n<head>\\n<title>A Useful Page</title>\\n</head>\\n<body>\\n<h1>An Interesting Title</h1>\\n<div>\\nLorem ipsum dolor sit amet, consectetur adipisicing elit, sed do eiusmod tempor incididunt ut labore et dolore magna aliqua. Ut enim ad minim veniam, quis nostrud exercitation ullamco laboris nisi ut aliquip ex ea commodo consequat. Duis aute irure dolor in reprehenderit in voluptate velit esse cillum dolore eu fugiat nulla pariatur. Excepteur sint occaecat cupidatat non proident, sunt in culpa qui officia deserunt mollit anim id est laborum.\\n</div>\\n</body>\\n</html>\\n'\n"
     ]
    }
   ],
   "source": [
    "from urllib.request import urlopen\n",
    "html = urlopen(\"http://pythonscraping.com/pages/page1.html\")\n",
    "print(html.read())"
   ]
  },
  {
   "cell_type": "code",
   "execution_count": 48,
   "id": "48224779c12724dc",
   "metadata": {
    "ExecuteTime": {
     "end_time": "2025-06-03T07:33:28.977176Z",
     "start_time": "2025-06-03T07:33:19.754823Z"
    }
   },
   "outputs": [
    {
     "name": "stdout",
     "output_type": "stream",
     "text": [
      "Collecting bs4\n",
      "  Downloading bs4-0.0.2-py2.py3-none-any.whl.metadata (411 bytes)\n",
      "Requirement already satisfied: beautifulsoup4 in c:\\users\\sylee\\pycharmprojects\\pythonproject\\.venv\\lib\\site-packages (from bs4) (4.13.4)\n",
      "Requirement already satisfied: soupsieve>1.2 in c:\\users\\sylee\\pycharmprojects\\pythonproject\\.venv\\lib\\site-packages (from beautifulsoup4->bs4) (2.7)\n",
      "Requirement already satisfied: typing-extensions>=4.0.0 in c:\\users\\sylee\\pycharmprojects\\pythonproject\\.venv\\lib\\site-packages (from beautifulsoup4->bs4) (4.13.2)\n",
      "Downloading bs4-0.0.2-py2.py3-none-any.whl (1.2 kB)\n",
      "Installing collected packages: bs4\n",
      "Successfully installed bs4-0.0.2\n",
      "Note: you may need to restart the kernel to use updated packages.\n"
     ]
    },
    {
     "name": "stderr",
     "output_type": "stream",
     "text": [
      "\n",
      "[notice] A new release of pip is available: 25.0.1 -> 25.1.1\n",
      "[notice] To update, run: python.exe -m pip install --upgrade pip\n"
     ]
    }
   ],
   "source": [
    "pip install bs4"
   ]
  },
  {
   "cell_type": "code",
   "execution_count": 49,
   "id": "246515a722d9aaee",
   "metadata": {
    "ExecuteTime": {
     "end_time": "2025-06-03T07:34:09.674113Z",
     "start_time": "2025-06-03T07:34:07.296657Z"
    }
   },
   "outputs": [
    {
     "name": "stdout",
     "output_type": "stream",
     "text": [
      "<h1>An Interesting Title</h1>\n"
     ]
    }
   ],
   "source": [
    "from urllib.request import urlopen\n",
    "from bs4 import BeautifulSoup\n",
    "html = urlopen(\"http://pythonscraping.com/pages/page1.html\")\n",
    "bsObj = BeautifulSoup(html.read(), \"html.parser\")\n",
    "print(bsObj.h1)"
   ]
  },
  {
   "cell_type": "code",
   "execution_count": 51,
   "id": "442d1b3e6f6a282",
   "metadata": {
    "ExecuteTime": {
     "end_time": "2025-06-03T07:35:28.356945Z",
     "start_time": "2025-06-03T07:35:28.350166Z"
    }
   },
   "outputs": [
    {
     "name": "stdout",
     "output_type": "stream",
     "text": [
      "<html>\n",
      " <head>\n",
      "  <title>\n",
      "   A Useful Page\n",
      "  </title>\n",
      " </head>\n",
      " <body>\n",
      "  <h1>\n",
      "   An Interesting Title\n",
      "  </h1>\n",
      "  <div>\n",
      "   Lorem ipsum dolor sit amet, consectetur adipisicing elit, sed do eiusmod tempor incididunt ut labore et dolore magna aliqua. Ut enim ad minim veniam, quis nostrud exercitation ullamco laboris nisi ut aliquip ex ea commodo consequat. Duis aute irure dolor in reprehenderit in voluptate velit esse cillum dolore eu fugiat nulla pariatur. Excepteur sint occaecat cupidatat non proident, sunt in culpa qui officia deserunt mollit anim id est laborum.\n",
      "  </div>\n",
      " </body>\n",
      "</html>\n",
      "\n"
     ]
    }
   ],
   "source": [
    "print(bsObj.html.prettify())"
   ]
  },
  {
   "cell_type": "code",
   "execution_count": null,
   "id": "abb43fb00e8aade4",
   "metadata": {},
   "outputs": [],
   "source": []
  }
 ],
 "metadata": {
  "kernelspec": {
   "display_name": "Python [conda env:Orange]",
   "language": "python",
   "name": "conda-env-Orange-py"
  },
  "language_info": {
   "codemirror_mode": {
    "name": "ipython",
    "version": 3
   },
   "file_extension": ".py",
   "mimetype": "text/x-python",
   "name": "python",
   "nbconvert_exporter": "python",
   "pygments_lexer": "ipython3",
   "version": "3.11.8"
  }
 },
 "nbformat": 4,
 "nbformat_minor": 5
}
